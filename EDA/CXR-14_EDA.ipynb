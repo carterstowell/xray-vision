{
 "cells": [
  {
   "cell_type": "markdown",
   "metadata": {},
   "source": [
    "# CXR14 EDA\n",
    "\n",
    "This is an exploratory data analysis of the Chest X-ray CXR-14 dataset from the NIHCC.\n",
    "\n",
    "## Table of Contents\n",
    "_\"You can observe a lot by just watching.\" ~Yogi Berra_"
   ]
  },
  {
   "cell_type": "markdown",
   "metadata": {},
   "source": [
    "1. [Setup and load data](#1.-Setup)\n",
    "2. [Data cleaning](#2.-Data-cleaning)\n",
    "3. [Begin EDA](#3.-Begin-EDA)\n",
    "    - How many rows and columns are the data? What does each row of data represent?\n",
    "    - What are the names and data types for each column?\n",
    "    - How many x-rays from how many patients are there?\n",
    "    - For numeric variables,\n",
    "        - What are the ranges and typical values?\n",
    "        - Are there extreme values or outliers?\n",
    "        - Are there any patterns of outliers? Or, what additional questions are raised?\n",
    "        - Are there correlations among numeric variables?\n",
    "    - For discrete (categorical) variables,\n",
    "        - How many categories are present, and what are they?\n",
    "        - How many x-rays are associated with each category?\n",
    "    - Are any data transformations necessary or helpful for EDA?\n",
    "        - One-hot encoding for Finding Labels\n",
    "        - Total sum of Finding Labels per x-ray \n",
    "        - Combined width-by-height combinations and counts\n",
    "4. Explore target variable: Findings Labels\n",
    "    - What is the prevalence of each pathology?\n",
    "    - What is the proportion of x-rays that are normal vs. abnormal?\n",
    "    - Do x-rays have more than one finding? If so, how many?\n",
    "    - What are common co-morbidities for each pathology wherever more than one is found? (pie chart [example](https://www.kaggle.com/sbernadac/lung-deseases-data-analysis))\n",
    "5. Show examples of actual chest x-ray images\n",
    "    - What do the chest x-rays look like?\n",
    "    - What are examples of x-rays with non-normal findings?\n",
    "    - (if possible to do & show) What are some examples of image augmentation that can potentially improve models?\n",
    "        - Horizontal inversion, or rotation\n",
    "        - Shearing or blurring\n",
    "        - Brightness and contrast\n",
    "        - (Ajdust gamma)\n",
    "        - (Heatmap)\n",
    "6. Exploratory, simple binary model\n",
    "    - Using logistic regression, without looking at x-ray images, what can Age, Gender, and Follow-up # tell us about the likelihood of a non-normal finding?\n"
   ]
  },
  {
   "cell_type": "markdown",
   "metadata": {},
   "source": [
    "## 1. Setup"
   ]
  },
  {
   "cell_type": "markdown",
   "metadata": {},
   "source": [
    "### Load Python packages used for analysis"
   ]
  },
  {
   "cell_type": "code",
   "execution_count": 1,
   "metadata": {},
   "outputs": [],
   "source": [
    "import numpy as np # linear algebra\n",
    "import pandas as pd # data processing, CSV file I/O (e.g. pd.read_csv)\n",
    "import matplotlib.pyplot as plt # visualizing the data\n",
    "import seaborn as sns # prettier visuals of data, built on matplotlib\n",
    "import matplotlib.gridspec as gridspec\n",
    "import matplotlib.ticker as ticker"
   ]
  },
  {
   "cell_type": "code",
   "execution_count": 2,
   "metadata": {},
   "outputs": [],
   "source": [
    "sns.set_style('whitegrid')\n",
    "%matplotlib inline"
   ]
  },
  {
   "cell_type": "code",
   "execution_count": 3,
   "metadata": {},
   "outputs": [],
   "source": [
    "# Uncomment to check pandas environment\n",
    "# pd.show_versions() # show versions of pandas and all of its dependencies\n",
    "# pd.__version__ # show pandas version only"
   ]
  },
  {
   "cell_type": "markdown",
   "metadata": {},
   "source": [
    "### Load data\n",
    "Source: NIH  \n",
    "File: Data_Entry_2017.csv  \n",
    "Repo: https://nihcc.app.box.com/v/ChestXray-NIHCC/folder/36938765345  "
   ]
  },
  {
   "cell_type": "code",
   "execution_count": 4,
   "metadata": {},
   "outputs": [],
   "source": [
    "xrayDataIn = pd.read_csv('../data/Data_Entry_2017.csv')"
   ]
  },
  {
   "cell_type": "code",
   "execution_count": 5,
   "metadata": {},
   "outputs": [
    {
     "data": {
      "text/plain": [
       "(112120, 12)"
      ]
     },
     "execution_count": 5,
     "metadata": {},
     "output_type": "execute_result"
    }
   ],
   "source": [
    "xrayDataIn.shape"
   ]
  },
  {
   "cell_type": "markdown",
   "metadata": {},
   "source": [
    "**How many rows and columns are the data?**\n",
    "\n",
    "The original X-ray data file provides 112,120 rows and 12 columns."
   ]
  },
  {
   "cell_type": "code",
   "execution_count": 6,
   "metadata": {},
   "outputs": [
    {
     "data": {
      "text/html": [
       "<div>\n",
       "<style scoped>\n",
       "    .dataframe tbody tr th:only-of-type {\n",
       "        vertical-align: middle;\n",
       "    }\n",
       "\n",
       "    .dataframe tbody tr th {\n",
       "        vertical-align: top;\n",
       "    }\n",
       "\n",
       "    .dataframe thead th {\n",
       "        text-align: right;\n",
       "    }\n",
       "</style>\n",
       "<table border=\"1\" class=\"dataframe\">\n",
       "  <thead>\n",
       "    <tr style=\"text-align: right;\">\n",
       "      <th></th>\n",
       "      <th>Image Index</th>\n",
       "      <th>Finding Labels</th>\n",
       "      <th>Follow-up #</th>\n",
       "      <th>Patient ID</th>\n",
       "      <th>Patient Age</th>\n",
       "      <th>Patient Gender</th>\n",
       "      <th>View Position</th>\n",
       "      <th>OriginalImage[Width</th>\n",
       "      <th>Height]</th>\n",
       "      <th>OriginalImagePixelSpacing[x</th>\n",
       "      <th>y]</th>\n",
       "      <th>Unnamed: 11</th>\n",
       "    </tr>\n",
       "  </thead>\n",
       "  <tbody>\n",
       "    <tr>\n",
       "      <th>0</th>\n",
       "      <td>00000001_000.png</td>\n",
       "      <td>Cardiomegaly</td>\n",
       "      <td>0</td>\n",
       "      <td>1</td>\n",
       "      <td>58</td>\n",
       "      <td>M</td>\n",
       "      <td>PA</td>\n",
       "      <td>2682</td>\n",
       "      <td>2749</td>\n",
       "      <td>0.143</td>\n",
       "      <td>0.143</td>\n",
       "      <td>NaN</td>\n",
       "    </tr>\n",
       "    <tr>\n",
       "      <th>1</th>\n",
       "      <td>00000001_001.png</td>\n",
       "      <td>Cardiomegaly|Emphysema</td>\n",
       "      <td>1</td>\n",
       "      <td>1</td>\n",
       "      <td>58</td>\n",
       "      <td>M</td>\n",
       "      <td>PA</td>\n",
       "      <td>2894</td>\n",
       "      <td>2729</td>\n",
       "      <td>0.143</td>\n",
       "      <td>0.143</td>\n",
       "      <td>NaN</td>\n",
       "    </tr>\n",
       "    <tr>\n",
       "      <th>2</th>\n",
       "      <td>00000001_002.png</td>\n",
       "      <td>Cardiomegaly|Effusion</td>\n",
       "      <td>2</td>\n",
       "      <td>1</td>\n",
       "      <td>58</td>\n",
       "      <td>M</td>\n",
       "      <td>PA</td>\n",
       "      <td>2500</td>\n",
       "      <td>2048</td>\n",
       "      <td>0.168</td>\n",
       "      <td>0.168</td>\n",
       "      <td>NaN</td>\n",
       "    </tr>\n",
       "    <tr>\n",
       "      <th>3</th>\n",
       "      <td>00000002_000.png</td>\n",
       "      <td>No Finding</td>\n",
       "      <td>0</td>\n",
       "      <td>2</td>\n",
       "      <td>81</td>\n",
       "      <td>M</td>\n",
       "      <td>PA</td>\n",
       "      <td>2500</td>\n",
       "      <td>2048</td>\n",
       "      <td>0.171</td>\n",
       "      <td>0.171</td>\n",
       "      <td>NaN</td>\n",
       "    </tr>\n",
       "    <tr>\n",
       "      <th>4</th>\n",
       "      <td>00000003_000.png</td>\n",
       "      <td>Hernia</td>\n",
       "      <td>0</td>\n",
       "      <td>3</td>\n",
       "      <td>81</td>\n",
       "      <td>F</td>\n",
       "      <td>PA</td>\n",
       "      <td>2582</td>\n",
       "      <td>2991</td>\n",
       "      <td>0.143</td>\n",
       "      <td>0.143</td>\n",
       "      <td>NaN</td>\n",
       "    </tr>\n",
       "  </tbody>\n",
       "</table>\n",
       "</div>"
      ],
      "text/plain": [
       "        Image Index          Finding Labels  Follow-up #  Patient ID  \\\n",
       "0  00000001_000.png            Cardiomegaly            0           1   \n",
       "1  00000001_001.png  Cardiomegaly|Emphysema            1           1   \n",
       "2  00000001_002.png   Cardiomegaly|Effusion            2           1   \n",
       "3  00000002_000.png              No Finding            0           2   \n",
       "4  00000003_000.png                  Hernia            0           3   \n",
       "\n",
       "   Patient Age Patient Gender View Position  OriginalImage[Width  Height]  \\\n",
       "0           58              M            PA                 2682     2749   \n",
       "1           58              M            PA                 2894     2729   \n",
       "2           58              M            PA                 2500     2048   \n",
       "3           81              M            PA                 2500     2048   \n",
       "4           81              F            PA                 2582     2991   \n",
       "\n",
       "   OriginalImagePixelSpacing[x     y]  Unnamed: 11  \n",
       "0                        0.143  0.143          NaN  \n",
       "1                        0.143  0.143          NaN  \n",
       "2                        0.168  0.168          NaN  \n",
       "3                        0.171  0.171          NaN  \n",
       "4                        0.143  0.143          NaN  "
      ]
     },
     "execution_count": 6,
     "metadata": {},
     "output_type": "execute_result"
    }
   ],
   "source": [
    "xrayDataIn.head()"
   ]
  },
  {
   "cell_type": "markdown",
   "metadata": {},
   "source": [
    "**What does each row of data represent?**\n",
    "\n",
    "Each row is a single X-ray, each with the following information:\n",
    "\n",
    "- Image Index - unique image PNG filename for each X-ray\n",
    "- Finding Labels - pipe-separated list of pathologies detected in X-ray, or \"No Finding\" if none\n",
    "- Follow-up # - zero for first X-ray per patient, and incremented by one for subsequent X-rays\n",
    "- Patient Age - age, in years (possible exceptions)\n",
    "- Patient Gender - Categorical with two classes:\n",
    "    - F for Female\n",
    "    - M for or Male\n",
    "- View Position - Categorical with two classes:\n",
    "    - PA for posterioranterior position\n",
    "    - AP for anteroposterior position\n",
    "- OriginalImage\\[Width - image width, in pixels\n",
    "- Height\\] - image height, in pixels\n",
    "- OriginalImagePixelSpacing\\[x - horizontal image pixel spacing\n",
    "- y\\] - vertical image pixel spacing\n",
    "- Unnamed: 11 - junk"
   ]
  },
  {
   "cell_type": "code",
   "execution_count": 7,
   "metadata": {},
   "outputs": [
    {
     "name": "stdout",
     "output_type": "stream",
     "text": [
      "<class 'pandas.core.frame.DataFrame'>\n",
      "RangeIndex: 112120 entries, 0 to 112119\n",
      "Data columns (total 12 columns):\n",
      "Image Index                    112120 non-null object\n",
      "Finding Labels                 112120 non-null object\n",
      "Follow-up #                    112120 non-null int64\n",
      "Patient ID                     112120 non-null int64\n",
      "Patient Age                    112120 non-null int64\n",
      "Patient Gender                 112120 non-null object\n",
      "View Position                  112120 non-null object\n",
      "OriginalImage[Width            112120 non-null int64\n",
      "Height]                        112120 non-null int64\n",
      "OriginalImagePixelSpacing[x    112120 non-null float64\n",
      "y]                             112120 non-null float64\n",
      "Unnamed: 11                    0 non-null float64\n",
      "dtypes: float64(3), int64(5), object(4)\n",
      "memory usage: 10.3+ MB\n"
     ]
    }
   ],
   "source": [
    "# list each column by name, non-null counts, and data type\n",
    "xrayDataIn.info()"
   ]
  },
  {
   "cell_type": "markdown",
   "metadata": {},
   "source": [
    "Observations:\n",
    "- Total of 112,120 rows, one per X-ray\n",
    "- No missing data, with exception of empty column 'Unnamed: 11'\n",
    "- Categories 'Patient Gender' and 'View Position' imported with type *object*; change to type *category*"
   ]
  },
  {
   "cell_type": "markdown",
   "metadata": {},
   "source": [
    "## 2. Data cleaning"
   ]
  },
  {
   "cell_type": "markdown",
   "metadata": {},
   "source": [
    "- Copy X-ray data set and drop unused column\n",
    "- Clean up data types and column names\n",
    "- Parse \"Finding Labels\" into separate columns for each pathology\n",
    "- Create column to show sum of total pathologies found for each X-ray\n",
    "- Create column with binary flag if Non-normal X-ray"
   ]
  },
  {
   "cell_type": "code",
   "execution_count": 8,
   "metadata": {},
   "outputs": [],
   "source": [
    "# copy dataframe and drop unused column\n",
    "xrays = xrayDataIn.drop('Unnamed: 11', axis=1)"
   ]
  },
  {
   "cell_type": "code",
   "execution_count": 9,
   "metadata": {},
   "outputs": [],
   "source": [
    "# change data type to category\n",
    "for col in ['Patient Gender','View Position']:\n",
    "    xrays[col] = xrays[col].astype('category')\n",
    "\n",
    "# simplify column names\n",
    "xrays.rename(columns = {'OriginalImage[Width':'ImgWidth'}, inplace = True)\n",
    "xrays.rename(columns = {'Height]':'ImgHeight'}, inplace = True)\n",
    "xrays.rename(columns = {'OriginalImagePixelSpacing[x':'ImgPxSpaceX'}, inplace = True)\n",
    "xrays.rename(columns = {'y]':'ImgPxSpaceY'}, inplace = True)"
   ]
  },
  {
   "cell_type": "code",
   "execution_count": 10,
   "metadata": {},
   "outputs": [],
   "source": [
    "# create new column for each disease\n",
    "pathology_list = ['Cardiomegaly','Emphysema','Effusion','Hernia','Nodule','Pneumothorax','Atelectasis',\n",
    "                  'Pleural_Thickening','Mass','Edema','Consolidation','Infiltration','Fibrosis','Pneumonia']\n",
    "\n",
    "# for each pathology, for each row, set to 1 if label is found, or 0 if not found\n",
    "for pathology in pathology_list :\n",
    "    xrays.loc[:, pathology] = xrays['Finding Labels'].apply(lambda x: 1 if pathology in x else 0)\n",
    "\n",
    "# Code block credited to Stephane Bernadec's Kaggle kernel."
   ]
  },
  {
   "cell_type": "code",
   "execution_count": 11,
   "metadata": {},
   "outputs": [],
   "source": [
    "# create column for total number of pathologies in each X-ray; axis=1 to sum by columns\n",
    "xrays.loc[:, 'TotalPathos'] = xrays.iloc[:, 11:26].sum(axis=1)\n",
    "\n",
    "# create column with binary flag if Non-normal X-ray\n",
    "xrays.loc[:, 'Non-normal'] = xrays['TotalPathos'].apply(lambda x: 1 if (x > 0) else 0)\n",
    "\n",
    "# create column with combined image width by height string\n",
    "xrays.loc[: ,\"ImageWxH\"] = xrays[\"ImgWidth\"].map(str) + \"x\" + xrays[\"ImgHeight\"].map(str)"
   ]
  },
  {
   "cell_type": "code",
   "execution_count": 12,
   "metadata": {},
   "outputs": [
    {
     "data": {
      "text/html": [
       "<div>\n",
       "<style scoped>\n",
       "    .dataframe tbody tr th:only-of-type {\n",
       "        vertical-align: middle;\n",
       "    }\n",
       "\n",
       "    .dataframe tbody tr th {\n",
       "        vertical-align: top;\n",
       "    }\n",
       "\n",
       "    .dataframe thead th {\n",
       "        text-align: right;\n",
       "    }\n",
       "</style>\n",
       "<table border=\"1\" class=\"dataframe\">\n",
       "  <thead>\n",
       "    <tr style=\"text-align: right;\">\n",
       "      <th></th>\n",
       "      <th>Image Index</th>\n",
       "      <th>Finding Labels</th>\n",
       "      <th>Follow-up #</th>\n",
       "      <th>Patient ID</th>\n",
       "      <th>Patient Age</th>\n",
       "      <th>Patient Gender</th>\n",
       "      <th>View Position</th>\n",
       "      <th>ImgWidth</th>\n",
       "      <th>ImgHeight</th>\n",
       "      <th>ImgPxSpaceX</th>\n",
       "      <th>...</th>\n",
       "      <th>Pleural_Thickening</th>\n",
       "      <th>Mass</th>\n",
       "      <th>Edema</th>\n",
       "      <th>Consolidation</th>\n",
       "      <th>Infiltration</th>\n",
       "      <th>Fibrosis</th>\n",
       "      <th>Pneumonia</th>\n",
       "      <th>TotalPathos</th>\n",
       "      <th>Non-normal</th>\n",
       "      <th>ImageWxH</th>\n",
       "    </tr>\n",
       "  </thead>\n",
       "  <tbody>\n",
       "    <tr>\n",
       "      <th>0</th>\n",
       "      <td>00000001_000.png</td>\n",
       "      <td>Cardiomegaly</td>\n",
       "      <td>0</td>\n",
       "      <td>1</td>\n",
       "      <td>58</td>\n",
       "      <td>M</td>\n",
       "      <td>PA</td>\n",
       "      <td>2682</td>\n",
       "      <td>2749</td>\n",
       "      <td>0.143</td>\n",
       "      <td>...</td>\n",
       "      <td>0</td>\n",
       "      <td>0</td>\n",
       "      <td>0</td>\n",
       "      <td>0</td>\n",
       "      <td>0</td>\n",
       "      <td>0</td>\n",
       "      <td>0</td>\n",
       "      <td>1</td>\n",
       "      <td>1</td>\n",
       "      <td>2682x2749</td>\n",
       "    </tr>\n",
       "    <tr>\n",
       "      <th>1</th>\n",
       "      <td>00000001_001.png</td>\n",
       "      <td>Cardiomegaly|Emphysema</td>\n",
       "      <td>1</td>\n",
       "      <td>1</td>\n",
       "      <td>58</td>\n",
       "      <td>M</td>\n",
       "      <td>PA</td>\n",
       "      <td>2894</td>\n",
       "      <td>2729</td>\n",
       "      <td>0.143</td>\n",
       "      <td>...</td>\n",
       "      <td>0</td>\n",
       "      <td>0</td>\n",
       "      <td>0</td>\n",
       "      <td>0</td>\n",
       "      <td>0</td>\n",
       "      <td>0</td>\n",
       "      <td>0</td>\n",
       "      <td>2</td>\n",
       "      <td>1</td>\n",
       "      <td>2894x2729</td>\n",
       "    </tr>\n",
       "    <tr>\n",
       "      <th>2</th>\n",
       "      <td>00000001_002.png</td>\n",
       "      <td>Cardiomegaly|Effusion</td>\n",
       "      <td>2</td>\n",
       "      <td>1</td>\n",
       "      <td>58</td>\n",
       "      <td>M</td>\n",
       "      <td>PA</td>\n",
       "      <td>2500</td>\n",
       "      <td>2048</td>\n",
       "      <td>0.168</td>\n",
       "      <td>...</td>\n",
       "      <td>0</td>\n",
       "      <td>0</td>\n",
       "      <td>0</td>\n",
       "      <td>0</td>\n",
       "      <td>0</td>\n",
       "      <td>0</td>\n",
       "      <td>0</td>\n",
       "      <td>2</td>\n",
       "      <td>1</td>\n",
       "      <td>2500x2048</td>\n",
       "    </tr>\n",
       "    <tr>\n",
       "      <th>3</th>\n",
       "      <td>00000002_000.png</td>\n",
       "      <td>No Finding</td>\n",
       "      <td>0</td>\n",
       "      <td>2</td>\n",
       "      <td>81</td>\n",
       "      <td>M</td>\n",
       "      <td>PA</td>\n",
       "      <td>2500</td>\n",
       "      <td>2048</td>\n",
       "      <td>0.171</td>\n",
       "      <td>...</td>\n",
       "      <td>0</td>\n",
       "      <td>0</td>\n",
       "      <td>0</td>\n",
       "      <td>0</td>\n",
       "      <td>0</td>\n",
       "      <td>0</td>\n",
       "      <td>0</td>\n",
       "      <td>0</td>\n",
       "      <td>0</td>\n",
       "      <td>2500x2048</td>\n",
       "    </tr>\n",
       "    <tr>\n",
       "      <th>4</th>\n",
       "      <td>00000003_000.png</td>\n",
       "      <td>Hernia</td>\n",
       "      <td>0</td>\n",
       "      <td>3</td>\n",
       "      <td>81</td>\n",
       "      <td>F</td>\n",
       "      <td>PA</td>\n",
       "      <td>2582</td>\n",
       "      <td>2991</td>\n",
       "      <td>0.143</td>\n",
       "      <td>...</td>\n",
       "      <td>0</td>\n",
       "      <td>0</td>\n",
       "      <td>0</td>\n",
       "      <td>0</td>\n",
       "      <td>0</td>\n",
       "      <td>0</td>\n",
       "      <td>0</td>\n",
       "      <td>1</td>\n",
       "      <td>1</td>\n",
       "      <td>2582x2991</td>\n",
       "    </tr>\n",
       "  </tbody>\n",
       "</table>\n",
       "<p>5 rows × 28 columns</p>\n",
       "</div>"
      ],
      "text/plain": [
       "        Image Index          Finding Labels  Follow-up #  Patient ID  \\\n",
       "0  00000001_000.png            Cardiomegaly            0           1   \n",
       "1  00000001_001.png  Cardiomegaly|Emphysema            1           1   \n",
       "2  00000001_002.png   Cardiomegaly|Effusion            2           1   \n",
       "3  00000002_000.png              No Finding            0           2   \n",
       "4  00000003_000.png                  Hernia            0           3   \n",
       "\n",
       "   Patient Age Patient Gender View Position  ImgWidth  ImgHeight  ImgPxSpaceX  \\\n",
       "0           58              M            PA      2682       2749        0.143   \n",
       "1           58              M            PA      2894       2729        0.143   \n",
       "2           58              M            PA      2500       2048        0.168   \n",
       "3           81              M            PA      2500       2048        0.171   \n",
       "4           81              F            PA      2582       2991        0.143   \n",
       "\n",
       "     ...      Pleural_Thickening  Mass  Edema  Consolidation  Infiltration  \\\n",
       "0    ...                       0     0      0              0             0   \n",
       "1    ...                       0     0      0              0             0   \n",
       "2    ...                       0     0      0              0             0   \n",
       "3    ...                       0     0      0              0             0   \n",
       "4    ...                       0     0      0              0             0   \n",
       "\n",
       "   Fibrosis  Pneumonia  TotalPathos  Non-normal   ImageWxH  \n",
       "0         0          0            1           1  2682x2749  \n",
       "1         0          0            2           1  2894x2729  \n",
       "2         0          0            2           1  2500x2048  \n",
       "3         0          0            0           0  2500x2048  \n",
       "4         0          0            1           1  2582x2991  \n",
       "\n",
       "[5 rows x 28 columns]"
      ]
     },
     "execution_count": 12,
     "metadata": {},
     "output_type": "execute_result"
    }
   ],
   "source": [
    "xrays.head()"
   ]
  },
  {
   "cell_type": "markdown",
   "metadata": {},
   "source": [
    "### Save cleaned data to CSV"
   ]
  },
  {
   "cell_type": "code",
   "execution_count": 13,
   "metadata": {},
   "outputs": [],
   "source": [
    "# save cleaned dataframe to CSV, ignoring the index\n",
    "xrays.to_csv('../data/xrays-eda-clean.csv', index=False)"
   ]
  },
  {
   "cell_type": "markdown",
   "metadata": {},
   "source": [
    "### Read cleaned data from CSV"
   ]
  },
  {
   "cell_type": "code",
   "execution_count": 14,
   "metadata": {},
   "outputs": [],
   "source": [
    "xrays = pd.read_csv('../data/xrays-eda-clean.csv')"
   ]
  },
  {
   "cell_type": "code",
   "execution_count": 15,
   "metadata": {},
   "outputs": [],
   "source": [
    "# show index number for each column\n",
    "# pd.DataFrame({'cols':xrays.columns.tolist()})"
   ]
  },
  {
   "cell_type": "code",
   "execution_count": 16,
   "metadata": {},
   "outputs": [
    {
     "data": {
      "text/html": [
       "<div>\n",
       "<style scoped>\n",
       "    .dataframe tbody tr th:only-of-type {\n",
       "        vertical-align: middle;\n",
       "    }\n",
       "\n",
       "    .dataframe tbody tr th {\n",
       "        vertical-align: top;\n",
       "    }\n",
       "\n",
       "    .dataframe thead th {\n",
       "        text-align: right;\n",
       "    }\n",
       "</style>\n",
       "<table border=\"1\" class=\"dataframe\">\n",
       "  <thead>\n",
       "    <tr style=\"text-align: right;\">\n",
       "      <th></th>\n",
       "      <th>Image Index</th>\n",
       "      <th>Finding Labels</th>\n",
       "      <th>Follow-up #</th>\n",
       "      <th>Patient ID</th>\n",
       "      <th>Patient Age</th>\n",
       "      <th>Patient Gender</th>\n",
       "      <th>View Position</th>\n",
       "      <th>ImgWidth</th>\n",
       "      <th>ImgHeight</th>\n",
       "      <th>ImgPxSpaceX</th>\n",
       "      <th>...</th>\n",
       "      <th>Pleural_Thickening</th>\n",
       "      <th>Mass</th>\n",
       "      <th>Edema</th>\n",
       "      <th>Consolidation</th>\n",
       "      <th>Infiltration</th>\n",
       "      <th>Fibrosis</th>\n",
       "      <th>Pneumonia</th>\n",
       "      <th>TotalPathos</th>\n",
       "      <th>Non-normal</th>\n",
       "      <th>ImageWxH</th>\n",
       "    </tr>\n",
       "  </thead>\n",
       "  <tbody>\n",
       "    <tr>\n",
       "      <th>0</th>\n",
       "      <td>00000001_000.png</td>\n",
       "      <td>Cardiomegaly</td>\n",
       "      <td>0</td>\n",
       "      <td>1</td>\n",
       "      <td>58</td>\n",
       "      <td>M</td>\n",
       "      <td>PA</td>\n",
       "      <td>2682</td>\n",
       "      <td>2749</td>\n",
       "      <td>0.143</td>\n",
       "      <td>...</td>\n",
       "      <td>0</td>\n",
       "      <td>0</td>\n",
       "      <td>0</td>\n",
       "      <td>0</td>\n",
       "      <td>0</td>\n",
       "      <td>0</td>\n",
       "      <td>0</td>\n",
       "      <td>1</td>\n",
       "      <td>1</td>\n",
       "      <td>2682x2749</td>\n",
       "    </tr>\n",
       "    <tr>\n",
       "      <th>1</th>\n",
       "      <td>00000001_001.png</td>\n",
       "      <td>Cardiomegaly|Emphysema</td>\n",
       "      <td>1</td>\n",
       "      <td>1</td>\n",
       "      <td>58</td>\n",
       "      <td>M</td>\n",
       "      <td>PA</td>\n",
       "      <td>2894</td>\n",
       "      <td>2729</td>\n",
       "      <td>0.143</td>\n",
       "      <td>...</td>\n",
       "      <td>0</td>\n",
       "      <td>0</td>\n",
       "      <td>0</td>\n",
       "      <td>0</td>\n",
       "      <td>0</td>\n",
       "      <td>0</td>\n",
       "      <td>0</td>\n",
       "      <td>2</td>\n",
       "      <td>1</td>\n",
       "      <td>2894x2729</td>\n",
       "    </tr>\n",
       "    <tr>\n",
       "      <th>2</th>\n",
       "      <td>00000001_002.png</td>\n",
       "      <td>Cardiomegaly|Effusion</td>\n",
       "      <td>2</td>\n",
       "      <td>1</td>\n",
       "      <td>58</td>\n",
       "      <td>M</td>\n",
       "      <td>PA</td>\n",
       "      <td>2500</td>\n",
       "      <td>2048</td>\n",
       "      <td>0.168</td>\n",
       "      <td>...</td>\n",
       "      <td>0</td>\n",
       "      <td>0</td>\n",
       "      <td>0</td>\n",
       "      <td>0</td>\n",
       "      <td>0</td>\n",
       "      <td>0</td>\n",
       "      <td>0</td>\n",
       "      <td>2</td>\n",
       "      <td>1</td>\n",
       "      <td>2500x2048</td>\n",
       "    </tr>\n",
       "    <tr>\n",
       "      <th>3</th>\n",
       "      <td>00000002_000.png</td>\n",
       "      <td>No Finding</td>\n",
       "      <td>0</td>\n",
       "      <td>2</td>\n",
       "      <td>81</td>\n",
       "      <td>M</td>\n",
       "      <td>PA</td>\n",
       "      <td>2500</td>\n",
       "      <td>2048</td>\n",
       "      <td>0.171</td>\n",
       "      <td>...</td>\n",
       "      <td>0</td>\n",
       "      <td>0</td>\n",
       "      <td>0</td>\n",
       "      <td>0</td>\n",
       "      <td>0</td>\n",
       "      <td>0</td>\n",
       "      <td>0</td>\n",
       "      <td>0</td>\n",
       "      <td>0</td>\n",
       "      <td>2500x2048</td>\n",
       "    </tr>\n",
       "    <tr>\n",
       "      <th>4</th>\n",
       "      <td>00000003_000.png</td>\n",
       "      <td>Hernia</td>\n",
       "      <td>0</td>\n",
       "      <td>3</td>\n",
       "      <td>81</td>\n",
       "      <td>F</td>\n",
       "      <td>PA</td>\n",
       "      <td>2582</td>\n",
       "      <td>2991</td>\n",
       "      <td>0.143</td>\n",
       "      <td>...</td>\n",
       "      <td>0</td>\n",
       "      <td>0</td>\n",
       "      <td>0</td>\n",
       "      <td>0</td>\n",
       "      <td>0</td>\n",
       "      <td>0</td>\n",
       "      <td>0</td>\n",
       "      <td>1</td>\n",
       "      <td>1</td>\n",
       "      <td>2582x2991</td>\n",
       "    </tr>\n",
       "  </tbody>\n",
       "</table>\n",
       "<p>5 rows × 28 columns</p>\n",
       "</div>"
      ],
      "text/plain": [
       "        Image Index          Finding Labels  Follow-up #  Patient ID  \\\n",
       "0  00000001_000.png            Cardiomegaly            0           1   \n",
       "1  00000001_001.png  Cardiomegaly|Emphysema            1           1   \n",
       "2  00000001_002.png   Cardiomegaly|Effusion            2           1   \n",
       "3  00000002_000.png              No Finding            0           2   \n",
       "4  00000003_000.png                  Hernia            0           3   \n",
       "\n",
       "   Patient Age Patient Gender View Position  ImgWidth  ImgHeight  ImgPxSpaceX  \\\n",
       "0           58              M            PA      2682       2749        0.143   \n",
       "1           58              M            PA      2894       2729        0.143   \n",
       "2           58              M            PA      2500       2048        0.168   \n",
       "3           81              M            PA      2500       2048        0.171   \n",
       "4           81              F            PA      2582       2991        0.143   \n",
       "\n",
       "     ...      Pleural_Thickening  Mass  Edema  Consolidation  Infiltration  \\\n",
       "0    ...                       0     0      0              0             0   \n",
       "1    ...                       0     0      0              0             0   \n",
       "2    ...                       0     0      0              0             0   \n",
       "3    ...                       0     0      0              0             0   \n",
       "4    ...                       0     0      0              0             0   \n",
       "\n",
       "   Fibrosis  Pneumonia  TotalPathos  Non-normal   ImageWxH  \n",
       "0         0          0            1           1  2682x2749  \n",
       "1         0          0            2           1  2894x2729  \n",
       "2         0          0            2           1  2500x2048  \n",
       "3         0          0            0           0  2500x2048  \n",
       "4         0          0            1           1  2582x2991  \n",
       "\n",
       "[5 rows x 28 columns]"
      ]
     },
     "execution_count": 16,
     "metadata": {},
     "output_type": "execute_result"
    }
   ],
   "source": [
    "xrays.head()"
   ]
  },
  {
   "cell_type": "code",
   "execution_count": 17,
   "metadata": {},
   "outputs": [
    {
     "name": "stdout",
     "output_type": "stream",
     "text": [
      "<class 'pandas.core.frame.DataFrame'>\n",
      "RangeIndex: 112120 entries, 0 to 112119\n",
      "Data columns (total 28 columns):\n",
      "Image Index           112120 non-null object\n",
      "Finding Labels        112120 non-null object\n",
      "Follow-up #           112120 non-null int64\n",
      "Patient ID            112120 non-null int64\n",
      "Patient Age           112120 non-null int64\n",
      "Patient Gender        112120 non-null object\n",
      "View Position         112120 non-null object\n",
      "ImgWidth              112120 non-null int64\n",
      "ImgHeight             112120 non-null int64\n",
      "ImgPxSpaceX           112120 non-null float64\n",
      "ImgPxSpaceY           112120 non-null float64\n",
      "Cardiomegaly          112120 non-null int64\n",
      "Emphysema             112120 non-null int64\n",
      "Effusion              112120 non-null int64\n",
      "Hernia                112120 non-null int64\n",
      "Nodule                112120 non-null int64\n",
      "Pneumothorax          112120 non-null int64\n",
      "Atelectasis           112120 non-null int64\n",
      "Pleural_Thickening    112120 non-null int64\n",
      "Mass                  112120 non-null int64\n",
      "Edema                 112120 non-null int64\n",
      "Consolidation         112120 non-null int64\n",
      "Infiltration          112120 non-null int64\n",
      "Fibrosis              112120 non-null int64\n",
      "Pneumonia             112120 non-null int64\n",
      "TotalPathos           112120 non-null int64\n",
      "Non-normal            112120 non-null int64\n",
      "ImageWxH              112120 non-null object\n",
      "dtypes: float64(2), int64(21), object(5)\n",
      "memory usage: 24.0+ MB\n"
     ]
    }
   ],
   "source": [
    "# inspect column data types and look for null values\n",
    "xrays.info()"
   ]
  },
  {
   "cell_type": "markdown",
   "metadata": {},
   "source": [
    "## 3. Begin EDA"
   ]
  },
  {
   "cell_type": "code",
   "execution_count": 18,
   "metadata": {},
   "outputs": [
    {
     "data": {
      "text/html": [
       "<div>\n",
       "<style scoped>\n",
       "    .dataframe tbody tr th:only-of-type {\n",
       "        vertical-align: middle;\n",
       "    }\n",
       "\n",
       "    .dataframe tbody tr th {\n",
       "        vertical-align: top;\n",
       "    }\n",
       "\n",
       "    .dataframe thead th {\n",
       "        text-align: right;\n",
       "    }\n",
       "</style>\n",
       "<table border=\"1\" class=\"dataframe\">\n",
       "  <thead>\n",
       "    <tr style=\"text-align: right;\">\n",
       "      <th></th>\n",
       "      <th>Follow-up #</th>\n",
       "      <th>Patient ID</th>\n",
       "      <th>Patient Age</th>\n",
       "      <th>ImgWidth</th>\n",
       "      <th>ImgHeight</th>\n",
       "      <th>ImgPxSpaceX</th>\n",
       "      <th>ImgPxSpaceY</th>\n",
       "      <th>Cardiomegaly</th>\n",
       "      <th>Emphysema</th>\n",
       "      <th>Effusion</th>\n",
       "      <th>...</th>\n",
       "      <th>Atelectasis</th>\n",
       "      <th>Pleural_Thickening</th>\n",
       "      <th>Mass</th>\n",
       "      <th>Edema</th>\n",
       "      <th>Consolidation</th>\n",
       "      <th>Infiltration</th>\n",
       "      <th>Fibrosis</th>\n",
       "      <th>Pneumonia</th>\n",
       "      <th>TotalPathos</th>\n",
       "      <th>Non-normal</th>\n",
       "    </tr>\n",
       "  </thead>\n",
       "  <tbody>\n",
       "    <tr>\n",
       "      <th>count</th>\n",
       "      <td>112120.000000</td>\n",
       "      <td>112120.000000</td>\n",
       "      <td>112120.000000</td>\n",
       "      <td>112120.000000</td>\n",
       "      <td>112120.000000</td>\n",
       "      <td>112120.000000</td>\n",
       "      <td>112120.000000</td>\n",
       "      <td>112120.000000</td>\n",
       "      <td>112120.000000</td>\n",
       "      <td>112120.000000</td>\n",
       "      <td>...</td>\n",
       "      <td>112120.000000</td>\n",
       "      <td>112120.000000</td>\n",
       "      <td>112120.000000</td>\n",
       "      <td>112120.000000</td>\n",
       "      <td>112120.000000</td>\n",
       "      <td>112120.000000</td>\n",
       "      <td>112120.000000</td>\n",
       "      <td>112120.000000</td>\n",
       "      <td>112120.000000</td>\n",
       "      <td>112120.000000</td>\n",
       "    </tr>\n",
       "    <tr>\n",
       "      <th>mean</th>\n",
       "      <td>8.573751</td>\n",
       "      <td>14346.381743</td>\n",
       "      <td>46.901463</td>\n",
       "      <td>2646.078844</td>\n",
       "      <td>2486.438842</td>\n",
       "      <td>0.155649</td>\n",
       "      <td>0.155649</td>\n",
       "      <td>0.024759</td>\n",
       "      <td>0.022440</td>\n",
       "      <td>0.118775</td>\n",
       "      <td>...</td>\n",
       "      <td>0.103095</td>\n",
       "      <td>0.030191</td>\n",
       "      <td>0.051570</td>\n",
       "      <td>0.020540</td>\n",
       "      <td>0.041625</td>\n",
       "      <td>0.177435</td>\n",
       "      <td>0.015037</td>\n",
       "      <td>0.012763</td>\n",
       "      <td>0.724010</td>\n",
       "      <td>0.461639</td>\n",
       "    </tr>\n",
       "    <tr>\n",
       "      <th>std</th>\n",
       "      <td>15.406320</td>\n",
       "      <td>8403.876972</td>\n",
       "      <td>16.839923</td>\n",
       "      <td>341.246429</td>\n",
       "      <td>401.268227</td>\n",
       "      <td>0.016174</td>\n",
       "      <td>0.016174</td>\n",
       "      <td>0.155391</td>\n",
       "      <td>0.148111</td>\n",
       "      <td>0.323524</td>\n",
       "      <td>...</td>\n",
       "      <td>0.304084</td>\n",
       "      <td>0.171113</td>\n",
       "      <td>0.221158</td>\n",
       "      <td>0.141841</td>\n",
       "      <td>0.199732</td>\n",
       "      <td>0.382038</td>\n",
       "      <td>0.121702</td>\n",
       "      <td>0.112251</td>\n",
       "      <td>0.963195</td>\n",
       "      <td>0.498529</td>\n",
       "    </tr>\n",
       "    <tr>\n",
       "      <th>min</th>\n",
       "      <td>0.000000</td>\n",
       "      <td>1.000000</td>\n",
       "      <td>1.000000</td>\n",
       "      <td>1143.000000</td>\n",
       "      <td>966.000000</td>\n",
       "      <td>0.115000</td>\n",
       "      <td>0.115000</td>\n",
       "      <td>0.000000</td>\n",
       "      <td>0.000000</td>\n",
       "      <td>0.000000</td>\n",
       "      <td>...</td>\n",
       "      <td>0.000000</td>\n",
       "      <td>0.000000</td>\n",
       "      <td>0.000000</td>\n",
       "      <td>0.000000</td>\n",
       "      <td>0.000000</td>\n",
       "      <td>0.000000</td>\n",
       "      <td>0.000000</td>\n",
       "      <td>0.000000</td>\n",
       "      <td>0.000000</td>\n",
       "      <td>0.000000</td>\n",
       "    </tr>\n",
       "    <tr>\n",
       "      <th>25%</th>\n",
       "      <td>0.000000</td>\n",
       "      <td>7310.750000</td>\n",
       "      <td>35.000000</td>\n",
       "      <td>2500.000000</td>\n",
       "      <td>2048.000000</td>\n",
       "      <td>0.143000</td>\n",
       "      <td>0.143000</td>\n",
       "      <td>0.000000</td>\n",
       "      <td>0.000000</td>\n",
       "      <td>0.000000</td>\n",
       "      <td>...</td>\n",
       "      <td>0.000000</td>\n",
       "      <td>0.000000</td>\n",
       "      <td>0.000000</td>\n",
       "      <td>0.000000</td>\n",
       "      <td>0.000000</td>\n",
       "      <td>0.000000</td>\n",
       "      <td>0.000000</td>\n",
       "      <td>0.000000</td>\n",
       "      <td>0.000000</td>\n",
       "      <td>0.000000</td>\n",
       "    </tr>\n",
       "    <tr>\n",
       "      <th>50%</th>\n",
       "      <td>3.000000</td>\n",
       "      <td>13993.000000</td>\n",
       "      <td>49.000000</td>\n",
       "      <td>2518.000000</td>\n",
       "      <td>2544.000000</td>\n",
       "      <td>0.143000</td>\n",
       "      <td>0.143000</td>\n",
       "      <td>0.000000</td>\n",
       "      <td>0.000000</td>\n",
       "      <td>0.000000</td>\n",
       "      <td>...</td>\n",
       "      <td>0.000000</td>\n",
       "      <td>0.000000</td>\n",
       "      <td>0.000000</td>\n",
       "      <td>0.000000</td>\n",
       "      <td>0.000000</td>\n",
       "      <td>0.000000</td>\n",
       "      <td>0.000000</td>\n",
       "      <td>0.000000</td>\n",
       "      <td>0.000000</td>\n",
       "      <td>0.000000</td>\n",
       "    </tr>\n",
       "    <tr>\n",
       "      <th>75%</th>\n",
       "      <td>10.000000</td>\n",
       "      <td>20673.000000</td>\n",
       "      <td>59.000000</td>\n",
       "      <td>2992.000000</td>\n",
       "      <td>2991.000000</td>\n",
       "      <td>0.168000</td>\n",
       "      <td>0.168000</td>\n",
       "      <td>0.000000</td>\n",
       "      <td>0.000000</td>\n",
       "      <td>0.000000</td>\n",
       "      <td>...</td>\n",
       "      <td>0.000000</td>\n",
       "      <td>0.000000</td>\n",
       "      <td>0.000000</td>\n",
       "      <td>0.000000</td>\n",
       "      <td>0.000000</td>\n",
       "      <td>0.000000</td>\n",
       "      <td>0.000000</td>\n",
       "      <td>0.000000</td>\n",
       "      <td>1.000000</td>\n",
       "      <td>1.000000</td>\n",
       "    </tr>\n",
       "    <tr>\n",
       "      <th>max</th>\n",
       "      <td>183.000000</td>\n",
       "      <td>30805.000000</td>\n",
       "      <td>414.000000</td>\n",
       "      <td>3827.000000</td>\n",
       "      <td>4715.000000</td>\n",
       "      <td>0.198800</td>\n",
       "      <td>0.198800</td>\n",
       "      <td>1.000000</td>\n",
       "      <td>1.000000</td>\n",
       "      <td>1.000000</td>\n",
       "      <td>...</td>\n",
       "      <td>1.000000</td>\n",
       "      <td>1.000000</td>\n",
       "      <td>1.000000</td>\n",
       "      <td>1.000000</td>\n",
       "      <td>1.000000</td>\n",
       "      <td>1.000000</td>\n",
       "      <td>1.000000</td>\n",
       "      <td>1.000000</td>\n",
       "      <td>9.000000</td>\n",
       "      <td>1.000000</td>\n",
       "    </tr>\n",
       "  </tbody>\n",
       "</table>\n",
       "<p>8 rows × 23 columns</p>\n",
       "</div>"
      ],
      "text/plain": [
       "         Follow-up #     Patient ID    Patient Age       ImgWidth  \\\n",
       "count  112120.000000  112120.000000  112120.000000  112120.000000   \n",
       "mean        8.573751   14346.381743      46.901463    2646.078844   \n",
       "std        15.406320    8403.876972      16.839923     341.246429   \n",
       "min         0.000000       1.000000       1.000000    1143.000000   \n",
       "25%         0.000000    7310.750000      35.000000    2500.000000   \n",
       "50%         3.000000   13993.000000      49.000000    2518.000000   \n",
       "75%        10.000000   20673.000000      59.000000    2992.000000   \n",
       "max       183.000000   30805.000000     414.000000    3827.000000   \n",
       "\n",
       "           ImgHeight    ImgPxSpaceX    ImgPxSpaceY   Cardiomegaly  \\\n",
       "count  112120.000000  112120.000000  112120.000000  112120.000000   \n",
       "mean     2486.438842       0.155649       0.155649       0.024759   \n",
       "std       401.268227       0.016174       0.016174       0.155391   \n",
       "min       966.000000       0.115000       0.115000       0.000000   \n",
       "25%      2048.000000       0.143000       0.143000       0.000000   \n",
       "50%      2544.000000       0.143000       0.143000       0.000000   \n",
       "75%      2991.000000       0.168000       0.168000       0.000000   \n",
       "max      4715.000000       0.198800       0.198800       1.000000   \n",
       "\n",
       "           Emphysema       Effusion      ...          Atelectasis  \\\n",
       "count  112120.000000  112120.000000      ...        112120.000000   \n",
       "mean        0.022440       0.118775      ...             0.103095   \n",
       "std         0.148111       0.323524      ...             0.304084   \n",
       "min         0.000000       0.000000      ...             0.000000   \n",
       "25%         0.000000       0.000000      ...             0.000000   \n",
       "50%         0.000000       0.000000      ...             0.000000   \n",
       "75%         0.000000       0.000000      ...             0.000000   \n",
       "max         1.000000       1.000000      ...             1.000000   \n",
       "\n",
       "       Pleural_Thickening           Mass          Edema  Consolidation  \\\n",
       "count       112120.000000  112120.000000  112120.000000  112120.000000   \n",
       "mean             0.030191       0.051570       0.020540       0.041625   \n",
       "std              0.171113       0.221158       0.141841       0.199732   \n",
       "min              0.000000       0.000000       0.000000       0.000000   \n",
       "25%              0.000000       0.000000       0.000000       0.000000   \n",
       "50%              0.000000       0.000000       0.000000       0.000000   \n",
       "75%              0.000000       0.000000       0.000000       0.000000   \n",
       "max              1.000000       1.000000       1.000000       1.000000   \n",
       "\n",
       "        Infiltration       Fibrosis      Pneumonia    TotalPathos  \\\n",
       "count  112120.000000  112120.000000  112120.000000  112120.000000   \n",
       "mean        0.177435       0.015037       0.012763       0.724010   \n",
       "std         0.382038       0.121702       0.112251       0.963195   \n",
       "min         0.000000       0.000000       0.000000       0.000000   \n",
       "25%         0.000000       0.000000       0.000000       0.000000   \n",
       "50%         0.000000       0.000000       0.000000       0.000000   \n",
       "75%         0.000000       0.000000       0.000000       1.000000   \n",
       "max         1.000000       1.000000       1.000000       9.000000   \n",
       "\n",
       "          Non-normal  \n",
       "count  112120.000000  \n",
       "mean        0.461639  \n",
       "std         0.498529  \n",
       "min         0.000000  \n",
       "25%         0.000000  \n",
       "50%         0.000000  \n",
       "75%         1.000000  \n",
       "max         1.000000  \n",
       "\n",
       "[8 rows x 23 columns]"
      ]
     },
     "execution_count": 18,
     "metadata": {},
     "output_type": "execute_result"
    }
   ],
   "source": [
    "# show basic stats for any numeric columns\n",
    "xrays.describe()"
   ]
  },
  {
   "cell_type": "markdown",
   "metadata": {},
   "source": [
    "**How many x-rays are there? How many are normal vs. non-normal?**"
   ]
  },
  {
   "cell_type": "code",
   "execution_count": 19,
   "metadata": {},
   "outputs": [
    {
     "name": "stdout",
     "output_type": "stream",
     "text": [
      "Total X-rays: \t112,120\n",
      "- Normal: \t 60,361\n",
      "- Non-normal: \t 51,759\n"
     ]
    }
   ],
   "source": [
    "n = xrays[xrays['Finding Labels']=='No Finding']['Image Index'].count()\n",
    "nn = xrays.shape[0] - n\n",
    "print(\"Total X-rays: \\t{:,}\".format(n + nn))\n",
    "print(\"- Normal: \\t {:,}\".format(n))\n",
    "print(\"- Non-normal: \\t {:,}\".format(nn))"
   ]
  },
  {
   "cell_type": "markdown",
   "metadata": {},
   "source": [
    "**How many patients are there?**"
   ]
  },
  {
   "cell_type": "code",
   "execution_count": 20,
   "metadata": {},
   "outputs": [
    {
     "data": {
      "text/plain": [
       "51759"
      ]
     },
     "execution_count": 20,
     "metadata": {},
     "output_type": "execute_result"
    }
   ],
   "source": [
    "xrays[xrays['Non-normal'] == 1]['Patient ID'].count()"
   ]
  },
  {
   "cell_type": "code",
   "execution_count": 21,
   "metadata": {},
   "outputs": [
    {
     "name": "stdout",
     "output_type": "stream",
     "text": [
      "Total Patients: 30,805\n",
      "- Patients with Non-normal X-rays: 14,402\n",
      "- Patients with Normal X-rays: 24,907\n"
     ]
    }
   ],
   "source": [
    "# Count unique 'Patient ID'\n",
    "p = xrays['Patient ID'].nunique()\n",
    "print(\"Total Patients: {:,}\".format(p))\n",
    "\n",
    "puniqnonnorm = xrays[xrays['Non-normal'] == 1]['Patient ID'].nunique()\n",
    "print(\"- Patients with Non-normal X-rays: {:,}\".format(puniqnonnorm))\n",
    "\n",
    "puniqnorm = xrays[xrays['Non-normal'] == 0]['Patient ID'].nunique()\n",
    "print(\"- Patients with Normal X-rays: {:,}\".format(puniqnorm))"
   ]
  },
  {
   "cell_type": "markdown",
   "metadata": {},
   "source": [
    "Observation: Many patients who have multiple X-rays must have both normal and non-normal results."
   ]
  },
  {
   "cell_type": "markdown",
   "metadata": {},
   "source": [
    "**As of the first x-ray, what are patients' ages?**"
   ]
  },
  {
   "cell_type": "code",
   "execution_count": 22,
   "metadata": {},
   "outputs": [
    {
     "name": "stdout",
     "output_type": "stream",
     "text": [
      "The plot below represents all 30,805 patients.\n"
     ]
    }
   ],
   "source": [
    "# first X-ray\n",
    "xr1 = xrays[xrays['Follow-up #'] == 0]\n",
    "print(\"The plot below represents all {:,} patients.\".format(xr1.shape[0]))"
   ]
  },
  {
   "cell_type": "markdown",
   "metadata": {},
   "source": [
    "A benefit of only looking at the first X-ray is that each patient is counted once, as opposed to once per X-ray."
   ]
  },
  {
   "cell_type": "code",
   "execution_count": 23,
   "metadata": {},
   "outputs": [
    {
     "data": {
      "image/png": "[encoded data removed]",
      "text/plain": [
       "<matplotlib.figure.Figure at 0x105175908>"
      ]
     },
     "metadata": {},
     "output_type": "display_data"
    }
   ],
   "source": [
    "# plot code adapted from sbernadac (Kaggle) to address the \"first X-ray\" question\n",
    "sns.set(font_scale = 1.5)\n",
    "g = sns.factorplot(x=\"Patient Age\", col=\"Patient Gender\",data=xr1, kind=\"count\",size=10, aspect=0.8,palette=\"husl\");\n",
    "g.set_xticklabels(np.arange(0,100));\n",
    "g.set_xticklabels(step=10);\n",
    "g.fig.suptitle('Age distribution by sex of patient population',fontsize=22);\n",
    "g.fig.subplots_adjust(top=.9)"
   ]
  },
  {
   "cell_type": "code",
   "execution_count": 24,
   "metadata": {},
   "outputs": [
    {
     "name": "stdout",
     "output_type": "stream",
     "text": [
      "The dataset contains:\n",
      "- 63,340 X-rays from 16,630 men.\n",
      "- 48,780 X-rays from 14,175 wommen.\n"
     ]
    }
   ],
   "source": [
    "# count M and F in first xray\n",
    "totalmen = xr1[xr1['Patient Gender'] == 'M']['Patient ID'].nunique()\n",
    "totalmenxrays = xrays[xrays['Patient Gender'] == 'M']['Image Index'].nunique()\n",
    "totalwommen = xr1[xr1['Patient Gender'] == 'F']['Patient ID'].nunique()\n",
    "totalwomenxrays = xrays[xrays['Patient Gender'] == 'F']['Image Index'].nunique()\n",
    "print('The dataset contains:')\n",
    "print( '- {:,} X-rays from {:,} men.'.format(totalmenxrays, totalmen))\n",
    "print( '- {:,} X-rays from {:,} wommen.'.format(totalwomenxrays, totalwommen))"
   ]
  },
  {
   "cell_type": "code",
   "execution_count": 25,
   "metadata": {},
   "outputs": [
    {
     "data": {
      "image/png": "[encoded data removed]",
      "text/plain": [
       "<matplotlib.figure.Figure at 0x1a0f58a908>"
      ]
     },
     "metadata": {},
     "output_type": "display_data"
    }
   ],
   "source": [
    "# plot code adapted from sbernadac (Kaggle)\n",
    "sns.set(font_scale = 1.5)\n",
    "g = sns.factorplot(x=\"Patient Age\", col=\"Patient Gender\",data=xrays, kind=\"count\",size=10, aspect=0.8,palette=\"husl\");\n",
    "g.set_xticklabels(np.arange(0,100));\n",
    "g.set_xticklabels(step=10);\n",
    "g.fig.suptitle('Age distribution by sex of X-ray population',fontsize=22);\n",
    "g.fig.subplots_adjust(top=.9)"
   ]
  },
  {
   "cell_type": "markdown",
   "metadata": {},
   "source": [
    "What's the average age by 'Follow-up #'?"
   ]
  },
  {
   "cell_type": "code",
   "execution_count": 26,
   "metadata": {},
   "outputs": [
    {
     "data": {
      "text/plain": [
       "183"
      ]
     },
     "execution_count": 26,
     "metadata": {},
     "output_type": "execute_result"
    }
   ],
   "source": [
    "xrays['Follow-up #'].max(axis=0)"
   ]
  },
  {
   "cell_type": "code",
   "execution_count": 27,
   "metadata": {},
   "outputs": [
    {
     "data": {
      "text/plain": [
       "47.73438202247191"
      ]
     },
     "execution_count": 27,
     "metadata": {},
     "output_type": "execute_result"
    }
   ],
   "source": [
    "xrays[xrays['Follow-up #'] == 10]['Patient Age'].mean(axis=0)"
   ]
  },
  {
   "cell_type": "code",
   "execution_count": 28,
   "metadata": {},
   "outputs": [],
   "source": [
    "maxfu = xrays['Follow-up #'].max(axis=0)\n",
    "fu = []   # follow-up number\n",
    "favage = [] # avg. age\n",
    "for f in range(maxfu):\n",
    "    a = xrays[xrays['Follow-up #'] == f]['Patient Age'].mean(axis=0)\n",
    "    fu.append(f)\n",
    "    favage.append(a)\n"
   ]
  },
  {
   "cell_type": "code",
   "execution_count": 29,
   "metadata": {
    "scrolled": true
   },
   "outputs": [
    {
     "data": {
      "image/png": "[encoded data removed]",
      "text/plain": [
       "<matplotlib.figure.Figure at 0x1a0dd338d0>"
      ]
     },
     "metadata": {},
     "output_type": "display_data"
    }
   ],
   "source": [
    "plt.plot(fu, favage);\n",
    "plt.title('Average age by Follow-up #');"
   ]
  },
  {
   "cell_type": "code",
   "execution_count": null,
   "metadata": {},
   "outputs": [],
   "source": []
  },
  {
   "cell_type": "code",
   "execution_count": null,
   "metadata": {},
   "outputs": [],
   "source": []
  },
  {
   "cell_type": "markdown",
   "metadata": {},
   "source": [
    "Observations:\n",
    "* Follow-up # ranges from low of 0 (first visit) to high of 183 with a median of 3\n",
    "* Patient Age ranges from 1 to 414; need to investigate extreme values\n",
    "* \n",
    "\n",
    "Next, explore the variety of image widths, heights, and pixel spacing."
   ]
  },
  {
   "cell_type": "code",
   "execution_count": 30,
   "metadata": {},
   "outputs": [
    {
     "name": "stdout",
     "output_type": "stream",
     "text": [
      "M    63340\n",
      "F    48780\n",
      "Name: Patient Gender, dtype: int64\n",
      "\n",
      "PA    67310\n",
      "AP    44810\n",
      "Name: View Position, dtype: int64\n",
      "\n"
     ]
    }
   ],
   "source": [
    "# List categories and counts\n",
    "for cat in ['Patient Gender', 'View Position']:\n",
    "    print( \"{}\\n\".format(xrays[cat].value_counts()) )"
   ]
  },
  {
   "cell_type": "markdown",
   "metadata": {},
   "source": [
    "### X-ray image size and dimensions"
   ]
  },
  {
   "cell_type": "code",
   "execution_count": 31,
   "metadata": {},
   "outputs": [
    {
     "name": "stdout",
     "output_type": "stream",
     "text": [
      "Unique image widths: 904\n",
      "Unique image heights: 1137\n"
     ]
    }
   ],
   "source": [
    "w = len(xrays[\"ImgWidth\"].value_counts())\n",
    "h = len(xrays[\"ImgHeight\"].value_counts())\n",
    "print(\"Unique image widths: {}\\nUnique image heights: {}\".format(w, h))"
   ]
  },
  {
   "cell_type": "code",
   "execution_count": 32,
   "metadata": {},
   "outputs": [],
   "source": [
    "# create column with combined image width by height string\n",
    "xrays.loc[: ,\"ImageWxH\"] = xrays[\"ImgWidth\"].map(str) + \"x\" + xrays[\"ImgHeight\"].map(str)"
   ]
  },
  {
   "cell_type": "code",
   "execution_count": 33,
   "metadata": {},
   "outputs": [
    {
     "data": {
      "text/plain": [
       "0    2682x2749\n",
       "1    2894x2729\n",
       "2    2500x2048\n",
       "3    2500x2048\n",
       "4    2582x2991\n",
       "Name: ImageWxH, dtype: object"
      ]
     },
     "execution_count": 33,
     "metadata": {},
     "output_type": "execute_result"
    }
   ],
   "source": [
    "xrays[\"ImageWxH\"].head()"
   ]
  },
  {
   "cell_type": "code",
   "execution_count": 34,
   "metadata": {},
   "outputs": [
    {
     "name": "stdout",
     "output_type": "stream",
     "text": [
      "Number of unique image dimensions (WxH) among chest X-rays: 10471\n"
     ]
    }
   ],
   "source": [
    "# summarize unique combinations of image dimensions\n",
    "wh = len(xrays[\"ImageWxH\"].value_counts())\n",
    "print(\"Number of unique image dimensions (WxH) among chest X-rays: {}\".format(wh))"
   ]
  },
  {
   "cell_type": "code",
   "execution_count": 35,
   "metadata": {},
   "outputs": [
    {
     "data": {
      "text/plain": [
       "89043     3343\n",
       "103299    3416\n",
       "107811    3451\n",
       "109176    3550\n",
       "106673    3827\n",
       "Name: ImgWidth, dtype: int64"
      ]
     },
     "execution_count": 35,
     "metadata": {},
     "output_type": "execute_result"
    }
   ],
   "source": [
    "xrays[\"ImgWidth\"].sort_values().tail()"
   ]
  },
  {
   "cell_type": "code",
   "execution_count": 36,
   "metadata": {
    "scrolled": true
   },
   "outputs": [
    {
     "data": {
      "image/png": "[encoded data removed]",
      "text/plain": [
       "<matplotlib.figure.Figure at 0x1a0bb09e80>"
      ]
     },
     "metadata": {},
     "output_type": "display_data"
    }
   ],
   "source": [
    "# histogram by Age\n",
    "sns.distplot(xrays[\"ImgWidth\"]*xrays[\"ImgHeight\"]/1000000, bins=12,  kde=False);\n",
    "plt.title('Histogram of X-ray Total Pixels, in Millions');"
   ]
  },
  {
   "cell_type": "code",
   "execution_count": 37,
   "metadata": {},
   "outputs": [
    {
     "data": {
      "text/plain": [
       "2500x2048    37153\n",
       "2992x2991    21961\n",
       "3056x2544    15340\n",
       "2048x2500     8683\n",
       "2021x2021     4411\n",
       "2544x3056     2418\n",
       "2990x2991      483\n",
       "2020x2021      331\n",
       "2021x2020      279\n",
       "2986x2991      166\n",
       "Name: ImageWxH, dtype: int64"
      ]
     },
     "execution_count": 37,
     "metadata": {},
     "output_type": "execute_result"
    }
   ],
   "source": [
    "# most common image dimensions\n",
    "xrays[\"ImageWxH\"].value_counts().head(10)"
   ]
  },
  {
   "cell_type": "code",
   "execution_count": 38,
   "metadata": {},
   "outputs": [
    {
     "name": "stdout",
     "output_type": "stream",
     "text": [
      "Unique x pixel spacings: 23\n",
      "Unique y pixel spacings: 23\n"
     ]
    }
   ],
   "source": [
    "x = len(xrays[\"ImgPxSpaceX\"].value_counts())\n",
    "y = len(xrays[\"ImgPxSpaceY\"].value_counts())\n",
    "print(\"Unique x pixel spacings: {}\\nUnique y pixel spacings: {}\".format(x, y))"
   ]
  },
  {
   "cell_type": "markdown",
   "metadata": {},
   "source": [
    "## Exploratory Questions\n",
    "\n",
    "* What are the overall age and gender distributions?\n",
    "* What are the age and gender distributions by pathology?\n",
    "* Are there correlations between \"Follow-up #\", Age, Gender, and Pathologies?\n"
   ]
  },
  {
   "cell_type": "markdown",
   "metadata": {},
   "source": [
    "### Age analysis"
   ]
  },
  {
   "cell_type": "code",
   "execution_count": 39,
   "metadata": {
    "scrolled": true
   },
   "outputs": [
    {
     "data": {
      "image/png": "[encoded data removed]",
      "text/plain": [
       "<matplotlib.figure.Figure at 0x1a1864b7b8>"
      ]
     },
     "metadata": {},
     "output_type": "display_data"
    }
   ],
   "source": [
    "# histogram by Age\n",
    "sns.distplot(xrays[\"Patient Age\"], bins=25,  kde=False);\n",
    "plt.title('Histogram of Patient Age with Full Data');"
   ]
  },
  {
   "cell_type": "markdown",
   "metadata": {},
   "source": [
    "**What are the outliers at high end of 'Patient Age'?**"
   ]
  },
  {
   "cell_type": "code",
   "execution_count": 40,
   "metadata": {
    "scrolled": true
   },
   "outputs": [
    {
     "data": {
      "text/html": [
       "<div>\n",
       "<style scoped>\n",
       "    .dataframe tbody tr th:only-of-type {\n",
       "        vertical-align: middle;\n",
       "    }\n",
       "\n",
       "    .dataframe tbody tr th {\n",
       "        vertical-align: top;\n",
       "    }\n",
       "\n",
       "    .dataframe thead th {\n",
       "        text-align: right;\n",
       "    }\n",
       "</style>\n",
       "<table border=\"1\" class=\"dataframe\">\n",
       "  <thead>\n",
       "    <tr style=\"text-align: right;\">\n",
       "      <th></th>\n",
       "      <th>Image Index</th>\n",
       "      <th>Finding Labels</th>\n",
       "      <th>Follow-up #</th>\n",
       "      <th>Patient ID</th>\n",
       "      <th>Patient Age</th>\n",
       "      <th>Patient Gender</th>\n",
       "    </tr>\n",
       "  </thead>\n",
       "  <tbody>\n",
       "    <tr>\n",
       "      <th>46965</th>\n",
       "      <td>00011973_002.png</td>\n",
       "      <td>Edema</td>\n",
       "      <td>2</td>\n",
       "      <td>11973</td>\n",
       "      <td>414</td>\n",
       "      <td>M</td>\n",
       "    </tr>\n",
       "    <tr>\n",
       "      <th>86264</th>\n",
       "      <td>00021275_003.png</td>\n",
       "      <td>No Finding</td>\n",
       "      <td>3</td>\n",
       "      <td>21275</td>\n",
       "      <td>413</td>\n",
       "      <td>F</td>\n",
       "    </tr>\n",
       "    <tr>\n",
       "      <th>91369</th>\n",
       "      <td>00022811_000.png</td>\n",
       "      <td>No Finding</td>\n",
       "      <td>0</td>\n",
       "      <td>22811</td>\n",
       "      <td>412</td>\n",
       "      <td>M</td>\n",
       "    </tr>\n",
       "    <tr>\n",
       "      <th>85404</th>\n",
       "      <td>00021047_002.png</td>\n",
       "      <td>Mass|Pleural_Thickening</td>\n",
       "      <td>2</td>\n",
       "      <td>21047</td>\n",
       "      <td>412</td>\n",
       "      <td>M</td>\n",
       "    </tr>\n",
       "    <tr>\n",
       "      <th>20852</th>\n",
       "      <td>00005567_000.png</td>\n",
       "      <td>Effusion|Pneumonia</td>\n",
       "      <td>0</td>\n",
       "      <td>5567</td>\n",
       "      <td>412</td>\n",
       "      <td>M</td>\n",
       "    </tr>\n",
       "    <tr>\n",
       "      <th>84810</th>\n",
       "      <td>00020900_002.png</td>\n",
       "      <td>No Finding</td>\n",
       "      <td>2</td>\n",
       "      <td>20900</td>\n",
       "      <td>411</td>\n",
       "      <td>M</td>\n",
       "    </tr>\n",
       "    <tr>\n",
       "      <th>101194</th>\n",
       "      <td>00026871_000.png</td>\n",
       "      <td>No Finding</td>\n",
       "      <td>0</td>\n",
       "      <td>26871</td>\n",
       "      <td>155</td>\n",
       "      <td>F</td>\n",
       "    </tr>\n",
       "    <tr>\n",
       "      <th>104590</th>\n",
       "      <td>00027989_000.png</td>\n",
       "      <td>No Finding</td>\n",
       "      <td>0</td>\n",
       "      <td>27989</td>\n",
       "      <td>155</td>\n",
       "      <td>M</td>\n",
       "    </tr>\n",
       "    <tr>\n",
       "      <th>98495</th>\n",
       "      <td>00026028_001.png</td>\n",
       "      <td>Atelectasis</td>\n",
       "      <td>1</td>\n",
       "      <td>26028</td>\n",
       "      <td>154</td>\n",
       "      <td>M</td>\n",
       "    </tr>\n",
       "    <tr>\n",
       "      <th>95794</th>\n",
       "      <td>00025206_000.png</td>\n",
       "      <td>Infiltration|Mass</td>\n",
       "      <td>0</td>\n",
       "      <td>25206</td>\n",
       "      <td>153</td>\n",
       "      <td>M</td>\n",
       "    </tr>\n",
       "    <tr>\n",
       "      <th>74884</th>\n",
       "      <td>00018366_044.png</td>\n",
       "      <td>Pneumothorax</td>\n",
       "      <td>44</td>\n",
       "      <td>18366</td>\n",
       "      <td>152</td>\n",
       "      <td>F</td>\n",
       "    </tr>\n",
       "    <tr>\n",
       "      <th>78795</th>\n",
       "      <td>00019346_000.png</td>\n",
       "      <td>Infiltration</td>\n",
       "      <td>0</td>\n",
       "      <td>19346</td>\n",
       "      <td>151</td>\n",
       "      <td>F</td>\n",
       "    </tr>\n",
       "    <tr>\n",
       "      <th>58650</th>\n",
       "      <td>00014520_026.png</td>\n",
       "      <td>Infiltration|Mass</td>\n",
       "      <td>26</td>\n",
       "      <td>14520</td>\n",
       "      <td>150</td>\n",
       "      <td>M</td>\n",
       "    </tr>\n",
       "    <tr>\n",
       "      <th>62929</th>\n",
       "      <td>00015558_000.png</td>\n",
       "      <td>No Finding</td>\n",
       "      <td>0</td>\n",
       "      <td>15558</td>\n",
       "      <td>149</td>\n",
       "      <td>M</td>\n",
       "    </tr>\n",
       "    <tr>\n",
       "      <th>48284</th>\n",
       "      <td>00012238_010.png</td>\n",
       "      <td>No Finding</td>\n",
       "      <td>10</td>\n",
       "      <td>12238</td>\n",
       "      <td>148</td>\n",
       "      <td>M</td>\n",
       "    </tr>\n",
       "    <tr>\n",
       "      <th>55742</th>\n",
       "      <td>00013950_000.png</td>\n",
       "      <td>No Finding</td>\n",
       "      <td>0</td>\n",
       "      <td>13950</td>\n",
       "      <td>148</td>\n",
       "      <td>M</td>\n",
       "    </tr>\n",
       "    <tr>\n",
       "      <th>58464</th>\n",
       "      <td>00014456_000.png</td>\n",
       "      <td>No Finding</td>\n",
       "      <td>0</td>\n",
       "      <td>14456</td>\n",
       "      <td>95</td>\n",
       "      <td>F</td>\n",
       "    </tr>\n",
       "    <tr>\n",
       "      <th>578</th>\n",
       "      <td>00000143_002.png</td>\n",
       "      <td>Effusion|Infiltration</td>\n",
       "      <td>2</td>\n",
       "      <td>143</td>\n",
       "      <td>94</td>\n",
       "      <td>M</td>\n",
       "    </tr>\n",
       "    <tr>\n",
       "      <th>74733</th>\n",
       "      <td>00018359_004.png</td>\n",
       "      <td>No Finding</td>\n",
       "      <td>4</td>\n",
       "      <td>18359</td>\n",
       "      <td>94</td>\n",
       "      <td>M</td>\n",
       "    </tr>\n",
       "    <tr>\n",
       "      <th>74737</th>\n",
       "      <td>00018359_008.png</td>\n",
       "      <td>No Finding</td>\n",
       "      <td>8</td>\n",
       "      <td>18359</td>\n",
       "      <td>94</td>\n",
       "      <td>M</td>\n",
       "    </tr>\n",
       "  </tbody>\n",
       "</table>\n",
       "</div>"
      ],
      "text/plain": [
       "             Image Index           Finding Labels  Follow-up #  Patient ID  \\\n",
       "46965   00011973_002.png                    Edema            2       11973   \n",
       "86264   00021275_003.png               No Finding            3       21275   \n",
       "91369   00022811_000.png               No Finding            0       22811   \n",
       "85404   00021047_002.png  Mass|Pleural_Thickening            2       21047   \n",
       "20852   00005567_000.png       Effusion|Pneumonia            0        5567   \n",
       "84810   00020900_002.png               No Finding            2       20900   \n",
       "101194  00026871_000.png               No Finding            0       26871   \n",
       "104590  00027989_000.png               No Finding            0       27989   \n",
       "98495   00026028_001.png              Atelectasis            1       26028   \n",
       "95794   00025206_000.png        Infiltration|Mass            0       25206   \n",
       "74884   00018366_044.png             Pneumothorax           44       18366   \n",
       "78795   00019346_000.png             Infiltration            0       19346   \n",
       "58650   00014520_026.png        Infiltration|Mass           26       14520   \n",
       "62929   00015558_000.png               No Finding            0       15558   \n",
       "48284   00012238_010.png               No Finding           10       12238   \n",
       "55742   00013950_000.png               No Finding            0       13950   \n",
       "58464   00014456_000.png               No Finding            0       14456   \n",
       "578     00000143_002.png    Effusion|Infiltration            2         143   \n",
       "74733   00018359_004.png               No Finding            4       18359   \n",
       "74737   00018359_008.png               No Finding            8       18359   \n",
       "\n",
       "        Patient Age Patient Gender  \n",
       "46965           414              M  \n",
       "86264           413              F  \n",
       "91369           412              M  \n",
       "85404           412              M  \n",
       "20852           412              M  \n",
       "84810           411              M  \n",
       "101194          155              F  \n",
       "104590          155              M  \n",
       "98495           154              M  \n",
       "95794           153              M  \n",
       "74884           152              F  \n",
       "78795           151              F  \n",
       "58650           150              M  \n",
       "62929           149              M  \n",
       "48284           148              M  \n",
       "55742           148              M  \n",
       "58464            95              F  \n",
       "578              94              M  \n",
       "74733            94              M  \n",
       "74737            94              M  "
      ]
     },
     "execution_count": 40,
     "metadata": {},
     "output_type": "execute_result"
    }
   ],
   "source": [
    "xrays.iloc[:, 0:6].sort_values(by='Patient Age', ascending=False).head(20)"
   ]
  },
  {
   "cell_type": "markdown",
   "metadata": {},
   "source": [
    "Finding: 16 X-rays list Patient Age of 148 or greater. Perhaps that value is mislabeled, or not 'years' in some instances. Look at same patient where possible."
   ]
  },
  {
   "cell_type": "code",
   "execution_count": 41,
   "metadata": {},
   "outputs": [
    {
     "data": {
      "text/html": [
       "<div>\n",
       "<style scoped>\n",
       "    .dataframe tbody tr th:only-of-type {\n",
       "        vertical-align: middle;\n",
       "    }\n",
       "\n",
       "    .dataframe tbody tr th {\n",
       "        vertical-align: top;\n",
       "    }\n",
       "\n",
       "    .dataframe thead th {\n",
       "        text-align: right;\n",
       "    }\n",
       "</style>\n",
       "<table border=\"1\" class=\"dataframe\">\n",
       "  <thead>\n",
       "    <tr style=\"text-align: right;\">\n",
       "      <th></th>\n",
       "      <th>Image Index</th>\n",
       "      <th>Finding Labels</th>\n",
       "      <th>Follow-up #</th>\n",
       "      <th>Patient ID</th>\n",
       "      <th>Patient Age</th>\n",
       "      <th>Patient Gender</th>\n",
       "      <th>View Position</th>\n",
       "      <th>ImgWidth</th>\n",
       "      <th>ImgHeight</th>\n",
       "      <th>ImgPxSpaceX</th>\n",
       "      <th>...</th>\n",
       "      <th>Pleural_Thickening</th>\n",
       "      <th>Mass</th>\n",
       "      <th>Edema</th>\n",
       "      <th>Consolidation</th>\n",
       "      <th>Infiltration</th>\n",
       "      <th>Fibrosis</th>\n",
       "      <th>Pneumonia</th>\n",
       "      <th>TotalPathos</th>\n",
       "      <th>Non-normal</th>\n",
       "      <th>ImageWxH</th>\n",
       "    </tr>\n",
       "  </thead>\n",
       "  <tbody>\n",
       "    <tr>\n",
       "      <th>91374</th>\n",
       "      <td>00022811_005.png</td>\n",
       "      <td>No Finding</td>\n",
       "      <td>5</td>\n",
       "      <td>22811</td>\n",
       "      <td>25</td>\n",
       "      <td>M</td>\n",
       "      <td>AP</td>\n",
       "      <td>3056</td>\n",
       "      <td>2544</td>\n",
       "      <td>0.139</td>\n",
       "      <td>...</td>\n",
       "      <td>0</td>\n",
       "      <td>0</td>\n",
       "      <td>0</td>\n",
       "      <td>0</td>\n",
       "      <td>0</td>\n",
       "      <td>0</td>\n",
       "      <td>0</td>\n",
       "      <td>0</td>\n",
       "      <td>0</td>\n",
       "      <td>3056x2544</td>\n",
       "    </tr>\n",
       "    <tr>\n",
       "      <th>95794</th>\n",
       "      <td>00025206_000.png</td>\n",
       "      <td>Infiltration|Mass</td>\n",
       "      <td>0</td>\n",
       "      <td>25206</td>\n",
       "      <td>153</td>\n",
       "      <td>M</td>\n",
       "      <td>PA</td>\n",
       "      <td>2992</td>\n",
       "      <td>2991</td>\n",
       "      <td>0.143</td>\n",
       "      <td>...</td>\n",
       "      <td>0</td>\n",
       "      <td>1</td>\n",
       "      <td>0</td>\n",
       "      <td>0</td>\n",
       "      <td>1</td>\n",
       "      <td>0</td>\n",
       "      <td>0</td>\n",
       "      <td>2</td>\n",
       "      <td>1</td>\n",
       "      <td>2992x2991</td>\n",
       "    </tr>\n",
       "    <tr>\n",
       "      <th>95795</th>\n",
       "      <td>00025206_001.png</td>\n",
       "      <td>Mass|Nodule</td>\n",
       "      <td>1</td>\n",
       "      <td>25206</td>\n",
       "      <td>36</td>\n",
       "      <td>M</td>\n",
       "      <td>PA</td>\n",
       "      <td>2992</td>\n",
       "      <td>2991</td>\n",
       "      <td>0.143</td>\n",
       "      <td>...</td>\n",
       "      <td>0</td>\n",
       "      <td>1</td>\n",
       "      <td>0</td>\n",
       "      <td>0</td>\n",
       "      <td>0</td>\n",
       "      <td>0</td>\n",
       "      <td>0</td>\n",
       "      <td>2</td>\n",
       "      <td>1</td>\n",
       "      <td>2992x2991</td>\n",
       "    </tr>\n",
       "    <tr>\n",
       "      <th>95796</th>\n",
       "      <td>00025206_002.png</td>\n",
       "      <td>Nodule</td>\n",
       "      <td>2</td>\n",
       "      <td>25206</td>\n",
       "      <td>36</td>\n",
       "      <td>M</td>\n",
       "      <td>PA</td>\n",
       "      <td>2992</td>\n",
       "      <td>2991</td>\n",
       "      <td>0.143</td>\n",
       "      <td>...</td>\n",
       "      <td>0</td>\n",
       "      <td>0</td>\n",
       "      <td>0</td>\n",
       "      <td>0</td>\n",
       "      <td>0</td>\n",
       "      <td>0</td>\n",
       "      <td>0</td>\n",
       "      <td>1</td>\n",
       "      <td>1</td>\n",
       "      <td>2992x2991</td>\n",
       "    </tr>\n",
       "    <tr>\n",
       "      <th>95797</th>\n",
       "      <td>00025206_003.png</td>\n",
       "      <td>Mass|Nodule</td>\n",
       "      <td>3</td>\n",
       "      <td>25206</td>\n",
       "      <td>36</td>\n",
       "      <td>M</td>\n",
       "      <td>AP</td>\n",
       "      <td>3056</td>\n",
       "      <td>2544</td>\n",
       "      <td>0.139</td>\n",
       "      <td>...</td>\n",
       "      <td>0</td>\n",
       "      <td>1</td>\n",
       "      <td>0</td>\n",
       "      <td>0</td>\n",
       "      <td>0</td>\n",
       "      <td>0</td>\n",
       "      <td>0</td>\n",
       "      <td>2</td>\n",
       "      <td>1</td>\n",
       "      <td>3056x2544</td>\n",
       "    </tr>\n",
       "    <tr>\n",
       "      <th>95798</th>\n",
       "      <td>00025206_004.png</td>\n",
       "      <td>Nodule</td>\n",
       "      <td>4</td>\n",
       "      <td>25206</td>\n",
       "      <td>36</td>\n",
       "      <td>M</td>\n",
       "      <td>AP</td>\n",
       "      <td>3056</td>\n",
       "      <td>2544</td>\n",
       "      <td>0.139</td>\n",
       "      <td>...</td>\n",
       "      <td>0</td>\n",
       "      <td>0</td>\n",
       "      <td>0</td>\n",
       "      <td>0</td>\n",
       "      <td>0</td>\n",
       "      <td>0</td>\n",
       "      <td>0</td>\n",
       "      <td>1</td>\n",
       "      <td>1</td>\n",
       "      <td>3056x2544</td>\n",
       "    </tr>\n",
       "    <tr>\n",
       "      <th>98494</th>\n",
       "      <td>00026028_000.png</td>\n",
       "      <td>Infiltration</td>\n",
       "      <td>0</td>\n",
       "      <td>26028</td>\n",
       "      <td>60</td>\n",
       "      <td>M</td>\n",
       "      <td>PA</td>\n",
       "      <td>3056</td>\n",
       "      <td>2544</td>\n",
       "      <td>0.139</td>\n",
       "      <td>...</td>\n",
       "      <td>0</td>\n",
       "      <td>0</td>\n",
       "      <td>0</td>\n",
       "      <td>0</td>\n",
       "      <td>1</td>\n",
       "      <td>0</td>\n",
       "      <td>0</td>\n",
       "      <td>1</td>\n",
       "      <td>1</td>\n",
       "      <td>3056x2544</td>\n",
       "    </tr>\n",
       "    <tr>\n",
       "      <th>98495</th>\n",
       "      <td>00026028_001.png</td>\n",
       "      <td>Atelectasis</td>\n",
       "      <td>1</td>\n",
       "      <td>26028</td>\n",
       "      <td>154</td>\n",
       "      <td>M</td>\n",
       "      <td>PA</td>\n",
       "      <td>2992</td>\n",
       "      <td>2991</td>\n",
       "      <td>0.143</td>\n",
       "      <td>...</td>\n",
       "      <td>0</td>\n",
       "      <td>0</td>\n",
       "      <td>0</td>\n",
       "      <td>0</td>\n",
       "      <td>0</td>\n",
       "      <td>0</td>\n",
       "      <td>0</td>\n",
       "      <td>1</td>\n",
       "      <td>1</td>\n",
       "      <td>2992x2991</td>\n",
       "    </tr>\n",
       "    <tr>\n",
       "      <th>101194</th>\n",
       "      <td>00026871_000.png</td>\n",
       "      <td>No Finding</td>\n",
       "      <td>0</td>\n",
       "      <td>26871</td>\n",
       "      <td>155</td>\n",
       "      <td>F</td>\n",
       "      <td>PA</td>\n",
       "      <td>2992</td>\n",
       "      <td>2991</td>\n",
       "      <td>0.143</td>\n",
       "      <td>...</td>\n",
       "      <td>0</td>\n",
       "      <td>0</td>\n",
       "      <td>0</td>\n",
       "      <td>0</td>\n",
       "      <td>0</td>\n",
       "      <td>0</td>\n",
       "      <td>0</td>\n",
       "      <td>0</td>\n",
       "      <td>0</td>\n",
       "      <td>2992x2991</td>\n",
       "    </tr>\n",
       "    <tr>\n",
       "      <th>104590</th>\n",
       "      <td>00027989_000.png</td>\n",
       "      <td>No Finding</td>\n",
       "      <td>0</td>\n",
       "      <td>27989</td>\n",
       "      <td>155</td>\n",
       "      <td>M</td>\n",
       "      <td>PA</td>\n",
       "      <td>2992</td>\n",
       "      <td>2991</td>\n",
       "      <td>0.143</td>\n",
       "      <td>...</td>\n",
       "      <td>0</td>\n",
       "      <td>0</td>\n",
       "      <td>0</td>\n",
       "      <td>0</td>\n",
       "      <td>0</td>\n",
       "      <td>0</td>\n",
       "      <td>0</td>\n",
       "      <td>0</td>\n",
       "      <td>0</td>\n",
       "      <td>2992x2991</td>\n",
       "    </tr>\n",
       "  </tbody>\n",
       "</table>\n",
       "<p>10 rows × 28 columns</p>\n",
       "</div>"
      ],
      "text/plain": [
       "             Image Index     Finding Labels  Follow-up #  Patient ID  \\\n",
       "91374   00022811_005.png         No Finding            5       22811   \n",
       "95794   00025206_000.png  Infiltration|Mass            0       25206   \n",
       "95795   00025206_001.png        Mass|Nodule            1       25206   \n",
       "95796   00025206_002.png             Nodule            2       25206   \n",
       "95797   00025206_003.png        Mass|Nodule            3       25206   \n",
       "95798   00025206_004.png             Nodule            4       25206   \n",
       "98494   00026028_000.png       Infiltration            0       26028   \n",
       "98495   00026028_001.png        Atelectasis            1       26028   \n",
       "101194  00026871_000.png         No Finding            0       26871   \n",
       "104590  00027989_000.png         No Finding            0       27989   \n",
       "\n",
       "        Patient Age Patient Gender View Position  ImgWidth  ImgHeight  \\\n",
       "91374            25              M            AP      3056       2544   \n",
       "95794           153              M            PA      2992       2991   \n",
       "95795            36              M            PA      2992       2991   \n",
       "95796            36              M            PA      2992       2991   \n",
       "95797            36              M            AP      3056       2544   \n",
       "95798            36              M            AP      3056       2544   \n",
       "98494            60              M            PA      3056       2544   \n",
       "98495           154              M            PA      2992       2991   \n",
       "101194          155              F            PA      2992       2991   \n",
       "104590          155              M            PA      2992       2991   \n",
       "\n",
       "        ImgPxSpaceX    ...      Pleural_Thickening  Mass  Edema  \\\n",
       "91374         0.139    ...                       0     0      0   \n",
       "95794         0.143    ...                       0     1      0   \n",
       "95795         0.143    ...                       0     1      0   \n",
       "95796         0.143    ...                       0     0      0   \n",
       "95797         0.139    ...                       0     1      0   \n",
       "95798         0.139    ...                       0     0      0   \n",
       "98494         0.139    ...                       0     0      0   \n",
       "98495         0.143    ...                       0     0      0   \n",
       "101194        0.143    ...                       0     0      0   \n",
       "104590        0.143    ...                       0     0      0   \n",
       "\n",
       "        Consolidation  Infiltration  Fibrosis  Pneumonia  TotalPathos  \\\n",
       "91374               0             0         0          0            0   \n",
       "95794               0             1         0          0            2   \n",
       "95795               0             0         0          0            2   \n",
       "95796               0             0         0          0            1   \n",
       "95797               0             0         0          0            2   \n",
       "95798               0             0         0          0            1   \n",
       "98494               0             1         0          0            1   \n",
       "98495               0             0         0          0            1   \n",
       "101194              0             0         0          0            0   \n",
       "104590              0             0         0          0            0   \n",
       "\n",
       "        Non-normal   ImageWxH  \n",
       "91374            0  3056x2544  \n",
       "95794            1  2992x2991  \n",
       "95795            1  2992x2991  \n",
       "95796            1  2992x2991  \n",
       "95797            1  3056x2544  \n",
       "95798            1  3056x2544  \n",
       "98494            1  3056x2544  \n",
       "98495            1  2992x2991  \n",
       "101194           0  2992x2991  \n",
       "104590           0  2992x2991  \n",
       "\n",
       "[10 rows x 28 columns]"
      ]
     },
     "execution_count": 41,
     "metadata": {},
     "output_type": "execute_result"
    }
   ],
   "source": [
    "# Filter by 'Patient ID' where 'Patient Age' is over 100\n",
    "xrays[xrays['Patient ID'].isin(xrays[xrays['Patient Age'] > 100]['Patient ID'])].tail(10)"
   ]
  },
  {
   "cell_type": "markdown",
   "metadata": {},
   "source": [
    "Findings:\n",
    "- Patient ID 25206 is Age 153 at Follow-up \\#0, then Age 36 at all future Follow-ups.\n",
    "- Patient ID 26028 is Age 60 at Follow-up \\#0, but Age 154 at future Follow-ups.\n",
    "\n",
    "**Age Outliers Conclusion:** A handful of 'Patient Age' outliers reveal errors in this data. In cases where an Age outlier Patient ID has matching Follow-up #'s, the Patient Age could be corrected on a case-by-case basis. This could improve EDA statistical summaries, or if Age were to be used as a data modeling input. Regardless, the rows for these X-ray images will be left in the data set.\n"
   ]
  },
  {
   "cell_type": "code",
   "execution_count": 42,
   "metadata": {},
   "outputs": [
    {
     "data": {
      "image/png": "[encoded data removed]",
      "text/plain": [
       "<matplotlib.figure.Figure at 0x1a1802df98>"
      ]
     },
     "metadata": {},
     "output_type": "display_data"
    }
   ],
   "source": [
    "# histogram by Age < 100\n",
    "sns.distplot(xrays[xrays[\"Patient Age\"] < 100][\"Patient Age\"], bins=19,  kde=False);\n",
    "plt.title('Histogram of Patient Age < 100');"
   ]
  },
  {
   "cell_type": "code",
   "execution_count": null,
   "metadata": {},
   "outputs": [],
   "source": []
  },
  {
   "cell_type": "markdown",
   "metadata": {},
   "source": [
    "### What is the range of \"Follow-up #\"? Is there any relationship with total pathologies?"
   ]
  },
  {
   "cell_type": "code",
   "execution_count": 44,
   "metadata": {},
   "outputs": [
    {
     "data": {
      "text/html": [
       "<div>\n",
       "<style scoped>\n",
       "    .dataframe tbody tr th:only-of-type {\n",
       "        vertical-align: middle;\n",
       "    }\n",
       "\n",
       "    .dataframe tbody tr th {\n",
       "        vertical-align: top;\n",
       "    }\n",
       "\n",
       "    .dataframe thead th {\n",
       "        text-align: right;\n",
       "    }\n",
       "</style>\n",
       "<table border=\"1\" class=\"dataframe\">\n",
       "  <thead>\n",
       "    <tr style=\"text-align: right;\">\n",
       "      <th></th>\n",
       "      <th>TotalPathos</th>\n",
       "      <th>Follow-up #</th>\n",
       "    </tr>\n",
       "  </thead>\n",
       "  <tbody>\n",
       "    <tr>\n",
       "      <th>count</th>\n",
       "      <td>112120.000000</td>\n",
       "      <td>112120.000000</td>\n",
       "    </tr>\n",
       "    <tr>\n",
       "      <th>mean</th>\n",
       "      <td>0.724010</td>\n",
       "      <td>8.573751</td>\n",
       "    </tr>\n",
       "    <tr>\n",
       "      <th>std</th>\n",
       "      <td>0.963195</td>\n",
       "      <td>15.406320</td>\n",
       "    </tr>\n",
       "    <tr>\n",
       "      <th>min</th>\n",
       "      <td>0.000000</td>\n",
       "      <td>0.000000</td>\n",
       "    </tr>\n",
       "    <tr>\n",
       "      <th>25%</th>\n",
       "      <td>0.000000</td>\n",
       "      <td>0.000000</td>\n",
       "    </tr>\n",
       "    <tr>\n",
       "      <th>50%</th>\n",
       "      <td>0.000000</td>\n",
       "      <td>3.000000</td>\n",
       "    </tr>\n",
       "    <tr>\n",
       "      <th>75%</th>\n",
       "      <td>1.000000</td>\n",
       "      <td>10.000000</td>\n",
       "    </tr>\n",
       "    <tr>\n",
       "      <th>max</th>\n",
       "      <td>9.000000</td>\n",
       "      <td>183.000000</td>\n",
       "    </tr>\n",
       "  </tbody>\n",
       "</table>\n",
       "</div>"
      ],
      "text/plain": [
       "         TotalPathos    Follow-up #\n",
       "count  112120.000000  112120.000000\n",
       "mean        0.724010       8.573751\n",
       "std         0.963195      15.406320\n",
       "min         0.000000       0.000000\n",
       "25%         0.000000       0.000000\n",
       "50%         0.000000       3.000000\n",
       "75%         1.000000      10.000000\n",
       "max         9.000000     183.000000"
      ]
     },
     "execution_count": 44,
     "metadata": {},
     "output_type": "execute_result"
    }
   ],
   "source": [
    "# quick stats on multiple series\n",
    "xrays[[\"TotalPathos\", \"Follow-up #\"]].describe()"
   ]
  },
  {
   "cell_type": "markdown",
   "metadata": {},
   "source": [
    "Insights:\n",
    "* A given x-ray has anywhere from 0 to 9 total pathologies.\n",
    "* The \"Follow-up #\" ranges from 0 (first visit and x-ray) to 183."
   ]
  },
  {
   "cell_type": "code",
   "execution_count": 45,
   "metadata": {},
   "outputs": [],
   "source": [
    "%matplotlib inline"
   ]
  },
  {
   "cell_type": "code",
   "execution_count": 46,
   "metadata": {},
   "outputs": [
    {
     "data": {
      "text/plain": [
       "Text(0.5,1,'Count of X-rays by total number of pathologies found')"
      ]
     },
     "execution_count": 46,
     "metadata": {},
     "output_type": "execute_result"
    },
    {
     "data": {
      "image/png": "[encoded data removed]",
      "text/plain": [
       "<matplotlib.figure.Figure at 0x1a0dca9f28>"
      ]
     },
     "metadata": {},
     "output_type": "display_data"
    }
   ],
   "source": [
    "x = xrays['TotalPathos']\n",
    "sns.countplot(x);\n",
    "plt.title('Count of X-rays by total number of pathologies found')"
   ]
  },
  {
   "cell_type": "code",
   "execution_count": 47,
   "metadata": {},
   "outputs": [
    {
     "data": {
      "image/png": "[encoded data removed]",
      "text/plain": [
       "<matplotlib.figure.Figure at 0x1a1808f5f8>"
      ]
     },
     "metadata": {},
     "output_type": "display_data"
    }
   ],
   "source": [
    "# Plot of \"Follow-up #\" with \n",
    "sns.jointplot(x=\"Follow-up #\", y=\"TotalPathos\", data=xrays);"
   ]
  },
  {
   "cell_type": "code",
   "execution_count": null,
   "metadata": {},
   "outputs": [],
   "source": []
  },
  {
   "cell_type": "code",
   "execution_count": null,
   "metadata": {},
   "outputs": [],
   "source": []
  },
  {
   "cell_type": "markdown",
   "metadata": {},
   "source": [
    "# References\n",
    "\n",
    "As noted, some charts and code wizardry used here are credited to the excellent [Lung diseases data analysis](https://www.kaggle.com/sbernadac/lung-deseases-data-analysis) by Stephane Bernadec (sbernadec) on Kaggle."
   ]
  },
  {
   "cell_type": "code",
   "execution_count": null,
   "metadata": {},
   "outputs": [],
   "source": []
  }
 ],
 "metadata": {
  "kernelspec": {
   "display_name": "Python 3",
   "language": "python",
   "name": "python3"
  },
  "language_info": {
   "codemirror_mode": {
    "name": "ipython",
    "version": 3
   },
   "file_extension": ".py",
   "mimetype": "text/x-python",
   "name": "python",
   "nbconvert_exporter": "python",
   "pygments_lexer": "ipython3",
   "version": "3.6.4"
  }
 },
 "nbformat": 4,
 "nbformat_minor": 1
}
