{
 "cells": [
  {
   "cell_type": "markdown",
   "metadata": {},
   "source": [
    "# CXR14 EDA\n",
    "\n",
    "This is an exploratory data analysis of the Chest X-ray CXR-14 dataset from the NIHCC.\n",
    "\n",
    "## Table of Contents\n",
    "_\"You can observe a lot by just watching.\" ~Yogi Berra_"
   ]
  },
  {
   "cell_type": "markdown",
   "metadata": {},
   "source": [
    "1. [Setup and load data](#1.-Setup)\n",
    "2. [Data cleaning](#2.-Data-cleaning)\n",
    "3. [Begin EDA](#3.-Begin-EDA)\n",
    "    - How many rows and columns are the data? What does each row of data represent?\n",
    "    - What are the names and data types for each column?\n",
    "    - How many x-rays from how many patients are there?\n",
    "    - For numeric variables,\n",
    "        - What are the ranges and typical values?\n",
    "        - Are there extreme values or outliers?\n",
    "        - Are there any patterns of outliers? Or, what additional questions are raised?\n",
    "        - Are there correlations among numeric variables?\n",
    "    - For discrete (categorical) variables,\n",
    "        - How many categories are present, and what are they?\n",
    "        - How many x-rays are associated with each category?\n",
    "    - Are any data transformations necessary or helpful for EDA?\n",
    "        - One-hot encoding for Finding Labels\n",
    "        - Total sum of Finding Labels per x-ray \n",
    "        - Combined width-by-height combinations and counts\n",
    "4. Explore target variable: Findings Labels\n",
    "    - What is the prevalence of each pathology?\n",
    "    - What is the proportion of x-rays that are normal vs. abnormal?\n",
    "    - Do x-rays have more than one finding? If so, how many?\n",
    "    - What are common co-morbidities for each pathology wherever more than one is found? (pie chart [example](https://www.kaggle.com/sbernadac/lung-deseases-data-analysis))\n",
    "5. Show examples of actual chest x-ray images\n",
    "    - What do the chest x-rays look like?\n",
    "    - What are examples of x-rays with non-normal findings?\n",
    "    - (if possible to do & show) What are some examples of image augmentation that can potentially improve models?\n",
    "        - Horizontal inversion, or rotation\n",
    "        - Shearing or blurring\n",
    "        - Brightness and contrast\n",
    "        - (Ajdust gamma)\n",
    "        - (Heatmap)\n",
    "6. Exploratory, simple binary model\n",
    "    - Using logistic regression, without looking at x-ray images, what can Age, Gender, and Follow-up # tell us about the likelihood of a non-normal finding?\n"
   ]
  },
  {
   "cell_type": "markdown",
   "metadata": {},
   "source": [
    "## 1. Setup"
   ]
  },
  {
   "cell_type": "markdown",
   "metadata": {},
   "source": [
    "### Load Python packages used for analysis"
   ]
  },
  {
   "cell_type": "code",
   "execution_count": 1,
   "metadata": {},
   "outputs": [],
   "source": [
    "import numpy as np # linear algebra\n",
    "import pandas as pd # data processing, CSV file I/O (e.g. pd.read_csv)\n",
    "import matplotlib.pyplot as plt # visualizing the data\n",
    "import seaborn as sns # prettier visuals of data, built on matplotlib\n",
    "from collections import OrderedDict # to preserve column order when creating DFs\n",
    "import matplotlib.gridspec as gridspec\n",
    "import matplotlib.ticker as ticker # for customizing axis tick marks in plots"
   ]
  },
  {
   "cell_type": "code",
   "execution_count": 2,
   "metadata": {},
   "outputs": [],
   "source": [
    "sns.set_style('whitegrid')\n",
    "%matplotlib inline"
   ]
  },
  {
   "cell_type": "code",
   "execution_count": 3,
   "metadata": {},
   "outputs": [],
   "source": [
    "# Uncomment to check pandas environment\n",
    "# pd.show_versions() # show versions of pandas and all of its dependencies\n",
    "# pd.__version__ # show pandas version only"
   ]
  },
  {
   "cell_type": "markdown",
   "metadata": {},
   "source": [
    "### Load data\n",
    "Source: NIH  \n",
    "File: Data_Entry_2017.csv  \n",
    "Repo: https://nihcc.app.box.com/v/ChestXray-NIHCC/folder/36938765345  "
   ]
  },
  {
   "cell_type": "code",
   "execution_count": 4,
   "metadata": {},
   "outputs": [],
   "source": [
    "xrayDataIn = pd.read_csv('../data/Data_Entry_2017.csv')"
   ]
  },
  {
   "cell_type": "code",
   "execution_count": 5,
   "metadata": {},
   "outputs": [
    {
     "data": {
      "text/plain": [
       "(112120, 12)"
      ]
     },
     "execution_count": 5,
     "metadata": {},
     "output_type": "execute_result"
    }
   ],
   "source": [
    "xrayDataIn.shape"
   ]
  },
  {
   "cell_type": "markdown",
   "metadata": {},
   "source": [
    "**How many rows and columns are the data?**\n",
    "\n",
    "The original X-ray data file provides 112,120 rows and 12 columns."
   ]
  },
  {
   "cell_type": "code",
   "execution_count": 6,
   "metadata": {},
   "outputs": [
    {
     "data": {
      "text/html": [
       "<div>\n",
       "<style scoped>\n",
       "    .dataframe tbody tr th:only-of-type {\n",
       "        vertical-align: middle;\n",
       "    }\n",
       "\n",
       "    .dataframe tbody tr th {\n",
       "        vertical-align: top;\n",
       "    }\n",
       "\n",
       "    .dataframe thead th {\n",
       "        text-align: right;\n",
       "    }\n",
       "</style>\n",
       "<table border=\"1\" class=\"dataframe\">\n",
       "  <thead>\n",
       "    <tr style=\"text-align: right;\">\n",
       "      <th></th>\n",
       "      <th>Image Index</th>\n",
       "      <th>Finding Labels</th>\n",
       "      <th>Follow-up #</th>\n",
       "      <th>Patient ID</th>\n",
       "      <th>Patient Age</th>\n",
       "      <th>Patient Gender</th>\n",
       "      <th>View Position</th>\n",
       "      <th>OriginalImage[Width</th>\n",
       "      <th>Height]</th>\n",
       "      <th>OriginalImagePixelSpacing[x</th>\n",
       "      <th>y]</th>\n",
       "      <th>Unnamed: 11</th>\n",
       "    </tr>\n",
       "  </thead>\n",
       "  <tbody>\n",
       "    <tr>\n",
       "      <th>0</th>\n",
       "      <td>00000001_000.png</td>\n",
       "      <td>Cardiomegaly</td>\n",
       "      <td>0</td>\n",
       "      <td>1</td>\n",
       "      <td>58</td>\n",
       "      <td>M</td>\n",
       "      <td>PA</td>\n",
       "      <td>2682</td>\n",
       "      <td>2749</td>\n",
       "      <td>0.143</td>\n",
       "      <td>0.143</td>\n",
       "      <td>NaN</td>\n",
       "    </tr>\n",
       "    <tr>\n",
       "      <th>1</th>\n",
       "      <td>00000001_001.png</td>\n",
       "      <td>Cardiomegaly|Emphysema</td>\n",
       "      <td>1</td>\n",
       "      <td>1</td>\n",
       "      <td>58</td>\n",
       "      <td>M</td>\n",
       "      <td>PA</td>\n",
       "      <td>2894</td>\n",
       "      <td>2729</td>\n",
       "      <td>0.143</td>\n",
       "      <td>0.143</td>\n",
       "      <td>NaN</td>\n",
       "    </tr>\n",
       "    <tr>\n",
       "      <th>2</th>\n",
       "      <td>00000001_002.png</td>\n",
       "      <td>Cardiomegaly|Effusion</td>\n",
       "      <td>2</td>\n",
       "      <td>1</td>\n",
       "      <td>58</td>\n",
       "      <td>M</td>\n",
       "      <td>PA</td>\n",
       "      <td>2500</td>\n",
       "      <td>2048</td>\n",
       "      <td>0.168</td>\n",
       "      <td>0.168</td>\n",
       "      <td>NaN</td>\n",
       "    </tr>\n",
       "    <tr>\n",
       "      <th>3</th>\n",
       "      <td>00000002_000.png</td>\n",
       "      <td>No Finding</td>\n",
       "      <td>0</td>\n",
       "      <td>2</td>\n",
       "      <td>81</td>\n",
       "      <td>M</td>\n",
       "      <td>PA</td>\n",
       "      <td>2500</td>\n",
       "      <td>2048</td>\n",
       "      <td>0.171</td>\n",
       "      <td>0.171</td>\n",
       "      <td>NaN</td>\n",
       "    </tr>\n",
       "    <tr>\n",
       "      <th>4</th>\n",
       "      <td>00000003_000.png</td>\n",
       "      <td>Hernia</td>\n",
       "      <td>0</td>\n",
       "      <td>3</td>\n",
       "      <td>81</td>\n",
       "      <td>F</td>\n",
       "      <td>PA</td>\n",
       "      <td>2582</td>\n",
       "      <td>2991</td>\n",
       "      <td>0.143</td>\n",
       "      <td>0.143</td>\n",
       "      <td>NaN</td>\n",
       "    </tr>\n",
       "  </tbody>\n",
       "</table>\n",
       "</div>"
      ],
      "text/plain": [
       "        Image Index          Finding Labels  Follow-up #  Patient ID  \\\n",
       "0  00000001_000.png            Cardiomegaly            0           1   \n",
       "1  00000001_001.png  Cardiomegaly|Emphysema            1           1   \n",
       "2  00000001_002.png   Cardiomegaly|Effusion            2           1   \n",
       "3  00000002_000.png              No Finding            0           2   \n",
       "4  00000003_000.png                  Hernia            0           3   \n",
       "\n",
       "   Patient Age Patient Gender View Position  OriginalImage[Width  Height]  \\\n",
       "0           58              M            PA                 2682     2749   \n",
       "1           58              M            PA                 2894     2729   \n",
       "2           58              M            PA                 2500     2048   \n",
       "3           81              M            PA                 2500     2048   \n",
       "4           81              F            PA                 2582     2991   \n",
       "\n",
       "   OriginalImagePixelSpacing[x     y]  Unnamed: 11  \n",
       "0                        0.143  0.143          NaN  \n",
       "1                        0.143  0.143          NaN  \n",
       "2                        0.168  0.168          NaN  \n",
       "3                        0.171  0.171          NaN  \n",
       "4                        0.143  0.143          NaN  "
      ]
     },
     "execution_count": 6,
     "metadata": {},
     "output_type": "execute_result"
    }
   ],
   "source": [
    "xrayDataIn.head()"
   ]
  },
  {
   "cell_type": "markdown",
   "metadata": {},
   "source": [
    "**What does each row of data represent?**\n",
    "\n",
    "Each row is a single X-ray, each with the following information:\n",
    "\n",
    "- Image Index - unique image PNG filename for each X-ray\n",
    "- Finding Labels - pipe-separated list of pathologies detected in X-ray, or \"No Finding\" if none\n",
    "- Follow-up # - zero for first X-ray per patient, and incremented by one for subsequent X-rays\n",
    "- Patient Age - age, in years\n",
    "- Patient ID\n",
    "- Patient Gender - Category with two classes:\n",
    "    - F for Female\n",
    "    - M for Male\n",
    "- View Position - Category with two classes:\n",
    "    - PA for posterioranterior position\n",
    "    - AP for anteroposterior position\n",
    "- OriginalImage\\[Width - image width, in pixels\n",
    "- Height\\] - image height, in pixels\n",
    "- OriginalImagePixelSpacing\\[x - horizontal image pixel spacing\n",
    "- y\\] - vertical image pixel spacing\n",
    "- Unnamed: 11 - junk"
   ]
  },
  {
   "cell_type": "code",
   "execution_count": 7,
   "metadata": {},
   "outputs": [
    {
     "name": "stdout",
     "output_type": "stream",
     "text": [
      "<class 'pandas.core.frame.DataFrame'>\n",
      "RangeIndex: 112120 entries, 0 to 112119\n",
      "Data columns (total 12 columns):\n",
      "Image Index                    112120 non-null object\n",
      "Finding Labels                 112120 non-null object\n",
      "Follow-up #                    112120 non-null int64\n",
      "Patient ID                     112120 non-null int64\n",
      "Patient Age                    112120 non-null int64\n",
      "Patient Gender                 112120 non-null object\n",
      "View Position                  112120 non-null object\n",
      "OriginalImage[Width            112120 non-null int64\n",
      "Height]                        112120 non-null int64\n",
      "OriginalImagePixelSpacing[x    112120 non-null float64\n",
      "y]                             112120 non-null float64\n",
      "Unnamed: 11                    0 non-null float64\n",
      "dtypes: float64(3), int64(5), object(4)\n",
      "memory usage: 10.3+ MB\n"
     ]
    }
   ],
   "source": [
    "# list each column by name, non-null counts, and data type\n",
    "xrayDataIn.info()"
   ]
  },
  {
   "cell_type": "markdown",
   "metadata": {},
   "source": [
    "Observations:\n",
    "- Total of 112,120 rows, one per X-ray\n",
    "- No missing data, with exception of empty column 'Unnamed: 11'\n",
    "- Categories 'Patient Gender' and 'View Position' imported with type *object*; change to type *category*"
   ]
  },
  {
   "cell_type": "markdown",
   "metadata": {},
   "source": [
    "## 2. Data cleaning"
   ]
  },
  {
   "cell_type": "markdown",
   "metadata": {},
   "source": [
    "- Copy X-ray data set and drop unused column\n",
    "- Clean up data types and column names\n",
    "- Parse \"Finding Labels\" into separate columns for each pathology\n",
    "- Create column to show sum of total pathologies found for each X-ray\n",
    "- Create column with binary flag if Non-normal X-ray"
   ]
  },
  {
   "cell_type": "code",
   "execution_count": 8,
   "metadata": {},
   "outputs": [],
   "source": [
    "# copy dataframe and drop unused column\n",
    "xrays = xrayDataIn.drop('Unnamed: 11', axis=1)"
   ]
  },
  {
   "cell_type": "code",
   "execution_count": 9,
   "metadata": {},
   "outputs": [],
   "source": [
    "# change data type to category\n",
    "for col in ['Patient Gender','View Position']:\n",
    "    xrays[col] = xrays[col].astype('category')\n",
    "\n",
    "# simplify column names\n",
    "xrays.rename(columns = {'OriginalImage[Width':'ImgWidth'}, inplace = True)\n",
    "xrays.rename(columns = {'Height]':'ImgHeight'}, inplace = True)\n",
    "xrays.rename(columns = {'OriginalImagePixelSpacing[x':'ImgPxSpaceX'}, inplace = True)\n",
    "xrays.rename(columns = {'y]':'ImgPxSpaceY'}, inplace = True)"
   ]
  },
  {
   "cell_type": "code",
   "execution_count": 10,
   "metadata": {},
   "outputs": [],
   "source": [
    "# create new column for each disease\n",
    "pathology_list = ['Cardiomegaly','Emphysema','Effusion','Hernia','Nodule','Pneumothorax','Atelectasis',\n",
    "                  'Pleural_Thickening','Mass','Edema','Consolidation','Infiltration','Fibrosis','Pneumonia']\n",
    "\n",
    "# for each pathology, for each row, set to 1 if label is found, or 0 if not found\n",
    "for pathology in pathology_list :\n",
    "    xrays.loc[:, pathology] = xrays['Finding Labels'].apply(lambda x: 1 if pathology in x else 0)\n",
    "\n",
    "# Code block credited to Stephane Bernadec's Kaggle kernel."
   ]
  },
  {
   "cell_type": "code",
   "execution_count": 11,
   "metadata": {},
   "outputs": [],
   "source": [
    "# create column for total number of pathologies in each X-ray; axis=1 to sum by columns\n",
    "xrays.loc[:, 'TotalPathos'] = xrays.iloc[:, 11:26].sum(axis=1)\n",
    "\n",
    "# create column with binary flag if Non-normal X-ray\n",
    "xrays.loc[:, 'Non-normal'] = xrays['TotalPathos'].apply(lambda x: 1 if (x > 0) else 0)\n",
    "\n",
    "# create column with combined image width by height string\n",
    "xrays.loc[: ,\"ImageWxH\"] = xrays[\"ImgWidth\"].map(str) + \"x\" + xrays[\"ImgHeight\"].map(str)"
   ]
  },
  {
   "cell_type": "code",
   "execution_count": 12,
   "metadata": {},
   "outputs": [
    {
     "data": {
      "text/html": [
       "<div>\n",
       "<style scoped>\n",
       "    .dataframe tbody tr th:only-of-type {\n",
       "        vertical-align: middle;\n",
       "    }\n",
       "\n",
       "    .dataframe tbody tr th {\n",
       "        vertical-align: top;\n",
       "    }\n",
       "\n",
       "    .dataframe thead th {\n",
       "        text-align: right;\n",
       "    }\n",
       "</style>\n",
       "<table border=\"1\" class=\"dataframe\">\n",
       "  <thead>\n",
       "    <tr style=\"text-align: right;\">\n",
       "      <th></th>\n",
       "      <th>Image Index</th>\n",
       "      <th>Finding Labels</th>\n",
       "      <th>Follow-up #</th>\n",
       "      <th>Patient ID</th>\n",
       "      <th>Patient Age</th>\n",
       "      <th>Patient Gender</th>\n",
       "      <th>View Position</th>\n",
       "      <th>ImgWidth</th>\n",
       "      <th>ImgHeight</th>\n",
       "      <th>ImgPxSpaceX</th>\n",
       "      <th>...</th>\n",
       "      <th>Pleural_Thickening</th>\n",
       "      <th>Mass</th>\n",
       "      <th>Edema</th>\n",
       "      <th>Consolidation</th>\n",
       "      <th>Infiltration</th>\n",
       "      <th>Fibrosis</th>\n",
       "      <th>Pneumonia</th>\n",
       "      <th>TotalPathos</th>\n",
       "      <th>Non-normal</th>\n",
       "      <th>ImageWxH</th>\n",
       "    </tr>\n",
       "  </thead>\n",
       "  <tbody>\n",
       "    <tr>\n",
       "      <th>0</th>\n",
       "      <td>00000001_000.png</td>\n",
       "      <td>Cardiomegaly</td>\n",
       "      <td>0</td>\n",
       "      <td>1</td>\n",
       "      <td>58</td>\n",
       "      <td>M</td>\n",
       "      <td>PA</td>\n",
       "      <td>2682</td>\n",
       "      <td>2749</td>\n",
       "      <td>0.143</td>\n",
       "      <td>...</td>\n",
       "      <td>0</td>\n",
       "      <td>0</td>\n",
       "      <td>0</td>\n",
       "      <td>0</td>\n",
       "      <td>0</td>\n",
       "      <td>0</td>\n",
       "      <td>0</td>\n",
       "      <td>1</td>\n",
       "      <td>1</td>\n",
       "      <td>2682x2749</td>\n",
       "    </tr>\n",
       "    <tr>\n",
       "      <th>1</th>\n",
       "      <td>00000001_001.png</td>\n",
       "      <td>Cardiomegaly|Emphysema</td>\n",
       "      <td>1</td>\n",
       "      <td>1</td>\n",
       "      <td>58</td>\n",
       "      <td>M</td>\n",
       "      <td>PA</td>\n",
       "      <td>2894</td>\n",
       "      <td>2729</td>\n",
       "      <td>0.143</td>\n",
       "      <td>...</td>\n",
       "      <td>0</td>\n",
       "      <td>0</td>\n",
       "      <td>0</td>\n",
       "      <td>0</td>\n",
       "      <td>0</td>\n",
       "      <td>0</td>\n",
       "      <td>0</td>\n",
       "      <td>2</td>\n",
       "      <td>1</td>\n",
       "      <td>2894x2729</td>\n",
       "    </tr>\n",
       "    <tr>\n",
       "      <th>2</th>\n",
       "      <td>00000001_002.png</td>\n",
       "      <td>Cardiomegaly|Effusion</td>\n",
       "      <td>2</td>\n",
       "      <td>1</td>\n",
       "      <td>58</td>\n",
       "      <td>M</td>\n",
       "      <td>PA</td>\n",
       "      <td>2500</td>\n",
       "      <td>2048</td>\n",
       "      <td>0.168</td>\n",
       "      <td>...</td>\n",
       "      <td>0</td>\n",
       "      <td>0</td>\n",
       "      <td>0</td>\n",
       "      <td>0</td>\n",
       "      <td>0</td>\n",
       "      <td>0</td>\n",
       "      <td>0</td>\n",
       "      <td>2</td>\n",
       "      <td>1</td>\n",
       "      <td>2500x2048</td>\n",
       "    </tr>\n",
       "    <tr>\n",
       "      <th>3</th>\n",
       "      <td>00000002_000.png</td>\n",
       "      <td>No Finding</td>\n",
       "      <td>0</td>\n",
       "      <td>2</td>\n",
       "      <td>81</td>\n",
       "      <td>M</td>\n",
       "      <td>PA</td>\n",
       "      <td>2500</td>\n",
       "      <td>2048</td>\n",
       "      <td>0.171</td>\n",
       "      <td>...</td>\n",
       "      <td>0</td>\n",
       "      <td>0</td>\n",
       "      <td>0</td>\n",
       "      <td>0</td>\n",
       "      <td>0</td>\n",
       "      <td>0</td>\n",
       "      <td>0</td>\n",
       "      <td>0</td>\n",
       "      <td>0</td>\n",
       "      <td>2500x2048</td>\n",
       "    </tr>\n",
       "    <tr>\n",
       "      <th>4</th>\n",
       "      <td>00000003_000.png</td>\n",
       "      <td>Hernia</td>\n",
       "      <td>0</td>\n",
       "      <td>3</td>\n",
       "      <td>81</td>\n",
       "      <td>F</td>\n",
       "      <td>PA</td>\n",
       "      <td>2582</td>\n",
       "      <td>2991</td>\n",
       "      <td>0.143</td>\n",
       "      <td>...</td>\n",
       "      <td>0</td>\n",
       "      <td>0</td>\n",
       "      <td>0</td>\n",
       "      <td>0</td>\n",
       "      <td>0</td>\n",
       "      <td>0</td>\n",
       "      <td>0</td>\n",
       "      <td>1</td>\n",
       "      <td>1</td>\n",
       "      <td>2582x2991</td>\n",
       "    </tr>\n",
       "  </tbody>\n",
       "</table>\n",
       "<p>5 rows × 28 columns</p>\n",
       "</div>"
      ],
      "text/plain": [
       "        Image Index          Finding Labels  Follow-up #  Patient ID  \\\n",
       "0  00000001_000.png            Cardiomegaly            0           1   \n",
       "1  00000001_001.png  Cardiomegaly|Emphysema            1           1   \n",
       "2  00000001_002.png   Cardiomegaly|Effusion            2           1   \n",
       "3  00000002_000.png              No Finding            0           2   \n",
       "4  00000003_000.png                  Hernia            0           3   \n",
       "\n",
       "   Patient Age Patient Gender View Position  ImgWidth  ImgHeight  ImgPxSpaceX  \\\n",
       "0           58              M            PA      2682       2749        0.143   \n",
       "1           58              M            PA      2894       2729        0.143   \n",
       "2           58              M            PA      2500       2048        0.168   \n",
       "3           81              M            PA      2500       2048        0.171   \n",
       "4           81              F            PA      2582       2991        0.143   \n",
       "\n",
       "     ...      Pleural_Thickening  Mass  Edema  Consolidation  Infiltration  \\\n",
       "0    ...                       0     0      0              0             0   \n",
       "1    ...                       0     0      0              0             0   \n",
       "2    ...                       0     0      0              0             0   \n",
       "3    ...                       0     0      0              0             0   \n",
       "4    ...                       0     0      0              0             0   \n",
       "\n",
       "   Fibrosis  Pneumonia  TotalPathos  Non-normal   ImageWxH  \n",
       "0         0          0            1           1  2682x2749  \n",
       "1         0          0            2           1  2894x2729  \n",
       "2         0          0            2           1  2500x2048  \n",
       "3         0          0            0           0  2500x2048  \n",
       "4         0          0            1           1  2582x2991  \n",
       "\n",
       "[5 rows x 28 columns]"
      ]
     },
     "execution_count": 12,
     "metadata": {},
     "output_type": "execute_result"
    }
   ],
   "source": [
    "xrays.head()"
   ]
  },
  {
   "cell_type": "markdown",
   "metadata": {},
   "source": [
    "### Save cleaned data to CSV"
   ]
  },
  {
   "cell_type": "code",
   "execution_count": 13,
   "metadata": {},
   "outputs": [],
   "source": [
    "# save cleaned dataframe to CSV, ignoring the index\n",
    "xrays.to_csv('../data/xrays-eda-clean.csv', index=False)"
   ]
  },
  {
   "cell_type": "markdown",
   "metadata": {},
   "source": [
    "### Read cleaned data from CSV"
   ]
  },
  {
   "cell_type": "code",
   "execution_count": 14,
   "metadata": {},
   "outputs": [],
   "source": [
    "xrays = pd.read_csv('../data/xrays-eda-clean.csv')"
   ]
  },
  {
   "cell_type": "code",
   "execution_count": 15,
   "metadata": {},
   "outputs": [],
   "source": [
    "# show index number for each column\n",
    "# pd.DataFrame({'cols':xrays.columns.tolist()})"
   ]
  },
  {
   "cell_type": "code",
   "execution_count": 16,
   "metadata": {},
   "outputs": [
    {
     "data": {
      "text/html": [
       "<div>\n",
       "<style scoped>\n",
       "    .dataframe tbody tr th:only-of-type {\n",
       "        vertical-align: middle;\n",
       "    }\n",
       "\n",
       "    .dataframe tbody tr th {\n",
       "        vertical-align: top;\n",
       "    }\n",
       "\n",
       "    .dataframe thead th {\n",
       "        text-align: right;\n",
       "    }\n",
       "</style>\n",
       "<table border=\"1\" class=\"dataframe\">\n",
       "  <thead>\n",
       "    <tr style=\"text-align: right;\">\n",
       "      <th></th>\n",
       "      <th>Image Index</th>\n",
       "      <th>Finding Labels</th>\n",
       "      <th>Follow-up #</th>\n",
       "      <th>Patient ID</th>\n",
       "      <th>Patient Age</th>\n",
       "      <th>Patient Gender</th>\n",
       "      <th>View Position</th>\n",
       "      <th>ImgWidth</th>\n",
       "      <th>ImgHeight</th>\n",
       "      <th>ImgPxSpaceX</th>\n",
       "      <th>...</th>\n",
       "      <th>Pleural_Thickening</th>\n",
       "      <th>Mass</th>\n",
       "      <th>Edema</th>\n",
       "      <th>Consolidation</th>\n",
       "      <th>Infiltration</th>\n",
       "      <th>Fibrosis</th>\n",
       "      <th>Pneumonia</th>\n",
       "      <th>TotalPathos</th>\n",
       "      <th>Non-normal</th>\n",
       "      <th>ImageWxH</th>\n",
       "    </tr>\n",
       "  </thead>\n",
       "  <tbody>\n",
       "    <tr>\n",
       "      <th>0</th>\n",
       "      <td>00000001_000.png</td>\n",
       "      <td>Cardiomegaly</td>\n",
       "      <td>0</td>\n",
       "      <td>1</td>\n",
       "      <td>58</td>\n",
       "      <td>M</td>\n",
       "      <td>PA</td>\n",
       "      <td>2682</td>\n",
       "      <td>2749</td>\n",
       "      <td>0.143</td>\n",
       "      <td>...</td>\n",
       "      <td>0</td>\n",
       "      <td>0</td>\n",
       "      <td>0</td>\n",
       "      <td>0</td>\n",
       "      <td>0</td>\n",
       "      <td>0</td>\n",
       "      <td>0</td>\n",
       "      <td>1</td>\n",
       "      <td>1</td>\n",
       "      <td>2682x2749</td>\n",
       "    </tr>\n",
       "    <tr>\n",
       "      <th>1</th>\n",
       "      <td>00000001_001.png</td>\n",
       "      <td>Cardiomegaly|Emphysema</td>\n",
       "      <td>1</td>\n",
       "      <td>1</td>\n",
       "      <td>58</td>\n",
       "      <td>M</td>\n",
       "      <td>PA</td>\n",
       "      <td>2894</td>\n",
       "      <td>2729</td>\n",
       "      <td>0.143</td>\n",
       "      <td>...</td>\n",
       "      <td>0</td>\n",
       "      <td>0</td>\n",
       "      <td>0</td>\n",
       "      <td>0</td>\n",
       "      <td>0</td>\n",
       "      <td>0</td>\n",
       "      <td>0</td>\n",
       "      <td>2</td>\n",
       "      <td>1</td>\n",
       "      <td>2894x2729</td>\n",
       "    </tr>\n",
       "    <tr>\n",
       "      <th>2</th>\n",
       "      <td>00000001_002.png</td>\n",
       "      <td>Cardiomegaly|Effusion</td>\n",
       "      <td>2</td>\n",
       "      <td>1</td>\n",
       "      <td>58</td>\n",
       "      <td>M</td>\n",
       "      <td>PA</td>\n",
       "      <td>2500</td>\n",
       "      <td>2048</td>\n",
       "      <td>0.168</td>\n",
       "      <td>...</td>\n",
       "      <td>0</td>\n",
       "      <td>0</td>\n",
       "      <td>0</td>\n",
       "      <td>0</td>\n",
       "      <td>0</td>\n",
       "      <td>0</td>\n",
       "      <td>0</td>\n",
       "      <td>2</td>\n",
       "      <td>1</td>\n",
       "      <td>2500x2048</td>\n",
       "    </tr>\n",
       "    <tr>\n",
       "      <th>3</th>\n",
       "      <td>00000002_000.png</td>\n",
       "      <td>No Finding</td>\n",
       "      <td>0</td>\n",
       "      <td>2</td>\n",
       "      <td>81</td>\n",
       "      <td>M</td>\n",
       "      <td>PA</td>\n",
       "      <td>2500</td>\n",
       "      <td>2048</td>\n",
       "      <td>0.171</td>\n",
       "      <td>...</td>\n",
       "      <td>0</td>\n",
       "      <td>0</td>\n",
       "      <td>0</td>\n",
       "      <td>0</td>\n",
       "      <td>0</td>\n",
       "      <td>0</td>\n",
       "      <td>0</td>\n",
       "      <td>0</td>\n",
       "      <td>0</td>\n",
       "      <td>2500x2048</td>\n",
       "    </tr>\n",
       "    <tr>\n",
       "      <th>4</th>\n",
       "      <td>00000003_000.png</td>\n",
       "      <td>Hernia</td>\n",
       "      <td>0</td>\n",
       "      <td>3</td>\n",
       "      <td>81</td>\n",
       "      <td>F</td>\n",
       "      <td>PA</td>\n",
       "      <td>2582</td>\n",
       "      <td>2991</td>\n",
       "      <td>0.143</td>\n",
       "      <td>...</td>\n",
       "      <td>0</td>\n",
       "      <td>0</td>\n",
       "      <td>0</td>\n",
       "      <td>0</td>\n",
       "      <td>0</td>\n",
       "      <td>0</td>\n",
       "      <td>0</td>\n",
       "      <td>1</td>\n",
       "      <td>1</td>\n",
       "      <td>2582x2991</td>\n",
       "    </tr>\n",
       "  </tbody>\n",
       "</table>\n",
       "<p>5 rows × 28 columns</p>\n",
       "</div>"
      ],
      "text/plain": [
       "        Image Index          Finding Labels  Follow-up #  Patient ID  \\\n",
       "0  00000001_000.png            Cardiomegaly            0           1   \n",
       "1  00000001_001.png  Cardiomegaly|Emphysema            1           1   \n",
       "2  00000001_002.png   Cardiomegaly|Effusion            2           1   \n",
       "3  00000002_000.png              No Finding            0           2   \n",
       "4  00000003_000.png                  Hernia            0           3   \n",
       "\n",
       "   Patient Age Patient Gender View Position  ImgWidth  ImgHeight  ImgPxSpaceX  \\\n",
       "0           58              M            PA      2682       2749        0.143   \n",
       "1           58              M            PA      2894       2729        0.143   \n",
       "2           58              M            PA      2500       2048        0.168   \n",
       "3           81              M            PA      2500       2048        0.171   \n",
       "4           81              F            PA      2582       2991        0.143   \n",
       "\n",
       "     ...      Pleural_Thickening  Mass  Edema  Consolidation  Infiltration  \\\n",
       "0    ...                       0     0      0              0             0   \n",
       "1    ...                       0     0      0              0             0   \n",
       "2    ...                       0     0      0              0             0   \n",
       "3    ...                       0     0      0              0             0   \n",
       "4    ...                       0     0      0              0             0   \n",
       "\n",
       "   Fibrosis  Pneumonia  TotalPathos  Non-normal   ImageWxH  \n",
       "0         0          0            1           1  2682x2749  \n",
       "1         0          0            2           1  2894x2729  \n",
       "2         0          0            2           1  2500x2048  \n",
       "3         0          0            0           0  2500x2048  \n",
       "4         0          0            1           1  2582x2991  \n",
       "\n",
       "[5 rows x 28 columns]"
      ]
     },
     "execution_count": 16,
     "metadata": {},
     "output_type": "execute_result"
    }
   ],
   "source": [
    "xrays.head()"
   ]
  },
  {
   "cell_type": "code",
   "execution_count": 17,
   "metadata": {},
   "outputs": [
    {
     "data": {
      "text/plain": [
       "['Image Index',\n",
       " 'Finding Labels',\n",
       " 'Follow-up #',\n",
       " 'Patient ID',\n",
       " 'Patient Age',\n",
       " 'Patient Gender',\n",
       " 'View Position',\n",
       " 'ImgWidth',\n",
       " 'ImgHeight',\n",
       " 'ImgPxSpaceX',\n",
       " 'ImgPxSpaceY',\n",
       " 'Cardiomegaly',\n",
       " 'Emphysema',\n",
       " 'Effusion',\n",
       " 'Hernia',\n",
       " 'Nodule',\n",
       " 'Pneumothorax',\n",
       " 'Atelectasis',\n",
       " 'Pleural_Thickening',\n",
       " 'Mass',\n",
       " 'Edema',\n",
       " 'Consolidation',\n",
       " 'Infiltration',\n",
       " 'Fibrosis',\n",
       " 'Pneumonia',\n",
       " 'TotalPathos',\n",
       " 'Non-normal',\n",
       " 'ImageWxH']"
      ]
     },
     "execution_count": 17,
     "metadata": {},
     "output_type": "execute_result"
    }
   ],
   "source": [
    "xrays.columns.tolist()"
   ]
  },
  {
   "cell_type": "code",
   "execution_count": 18,
   "metadata": {},
   "outputs": [
    {
     "name": "stdout",
     "output_type": "stream",
     "text": [
      "<class 'pandas.core.frame.DataFrame'>\n",
      "RangeIndex: 112120 entries, 0 to 112119\n",
      "Data columns (total 28 columns):\n",
      "Image Index           112120 non-null object\n",
      "Finding Labels        112120 non-null object\n",
      "Follow-up #           112120 non-null int64\n",
      "Patient ID            112120 non-null int64\n",
      "Patient Age           112120 non-null int64\n",
      "Patient Gender        112120 non-null object\n",
      "View Position         112120 non-null object\n",
      "ImgWidth              112120 non-null int64\n",
      "ImgHeight             112120 non-null int64\n",
      "ImgPxSpaceX           112120 non-null float64\n",
      "ImgPxSpaceY           112120 non-null float64\n",
      "Cardiomegaly          112120 non-null int64\n",
      "Emphysema             112120 non-null int64\n",
      "Effusion              112120 non-null int64\n",
      "Hernia                112120 non-null int64\n",
      "Nodule                112120 non-null int64\n",
      "Pneumothorax          112120 non-null int64\n",
      "Atelectasis           112120 non-null int64\n",
      "Pleural_Thickening    112120 non-null int64\n",
      "Mass                  112120 non-null int64\n",
      "Edema                 112120 non-null int64\n",
      "Consolidation         112120 non-null int64\n",
      "Infiltration          112120 non-null int64\n",
      "Fibrosis              112120 non-null int64\n",
      "Pneumonia             112120 non-null int64\n",
      "TotalPathos           112120 non-null int64\n",
      "Non-normal            112120 non-null int64\n",
      "ImageWxH              112120 non-null object\n",
      "dtypes: float64(2), int64(21), object(5)\n",
      "memory usage: 24.0+ MB\n"
     ]
    }
   ],
   "source": [
    "# inspect column data types and look for null values\n",
    "xrays.info()"
   ]
  },
  {
   "cell_type": "markdown",
   "metadata": {},
   "source": [
    "## 3. Begin EDA"
   ]
  },
  {
   "cell_type": "markdown",
   "metadata": {},
   "source": [
    "### Check basic stats for numeric variables"
   ]
  },
  {
   "cell_type": "code",
   "execution_count": 19,
   "metadata": {},
   "outputs": [
    {
     "data": {
      "text/html": [
       "<div>\n",
       "<style scoped>\n",
       "    .dataframe tbody tr th:only-of-type {\n",
       "        vertical-align: middle;\n",
       "    }\n",
       "\n",
       "    .dataframe tbody tr th {\n",
       "        vertical-align: top;\n",
       "    }\n",
       "\n",
       "    .dataframe thead th {\n",
       "        text-align: right;\n",
       "    }\n",
       "</style>\n",
       "<table border=\"1\" class=\"dataframe\">\n",
       "  <thead>\n",
       "    <tr style=\"text-align: right;\">\n",
       "      <th></th>\n",
       "      <th>Follow-up #</th>\n",
       "      <th>Patient ID</th>\n",
       "      <th>Patient Age</th>\n",
       "      <th>ImgWidth</th>\n",
       "      <th>ImgHeight</th>\n",
       "      <th>ImgPxSpaceX</th>\n",
       "      <th>ImgPxSpaceY</th>\n",
       "      <th>Cardiomegaly</th>\n",
       "      <th>Emphysema</th>\n",
       "      <th>Effusion</th>\n",
       "      <th>...</th>\n",
       "      <th>Atelectasis</th>\n",
       "      <th>Pleural_Thickening</th>\n",
       "      <th>Mass</th>\n",
       "      <th>Edema</th>\n",
       "      <th>Consolidation</th>\n",
       "      <th>Infiltration</th>\n",
       "      <th>Fibrosis</th>\n",
       "      <th>Pneumonia</th>\n",
       "      <th>TotalPathos</th>\n",
       "      <th>Non-normal</th>\n",
       "    </tr>\n",
       "  </thead>\n",
       "  <tbody>\n",
       "    <tr>\n",
       "      <th>count</th>\n",
       "      <td>112120.000000</td>\n",
       "      <td>112120.000000</td>\n",
       "      <td>112120.000000</td>\n",
       "      <td>112120.000000</td>\n",
       "      <td>112120.000000</td>\n",
       "      <td>112120.000000</td>\n",
       "      <td>112120.000000</td>\n",
       "      <td>112120.000000</td>\n",
       "      <td>112120.000000</td>\n",
       "      <td>112120.000000</td>\n",
       "      <td>...</td>\n",
       "      <td>112120.000000</td>\n",
       "      <td>112120.000000</td>\n",
       "      <td>112120.000000</td>\n",
       "      <td>112120.000000</td>\n",
       "      <td>112120.000000</td>\n",
       "      <td>112120.000000</td>\n",
       "      <td>112120.000000</td>\n",
       "      <td>112120.000000</td>\n",
       "      <td>112120.000000</td>\n",
       "      <td>112120.000000</td>\n",
       "    </tr>\n",
       "    <tr>\n",
       "      <th>mean</th>\n",
       "      <td>8.573751</td>\n",
       "      <td>14346.381743</td>\n",
       "      <td>46.901463</td>\n",
       "      <td>2646.078844</td>\n",
       "      <td>2486.438842</td>\n",
       "      <td>0.155649</td>\n",
       "      <td>0.155649</td>\n",
       "      <td>0.024759</td>\n",
       "      <td>0.022440</td>\n",
       "      <td>0.118775</td>\n",
       "      <td>...</td>\n",
       "      <td>0.103095</td>\n",
       "      <td>0.030191</td>\n",
       "      <td>0.051570</td>\n",
       "      <td>0.020540</td>\n",
       "      <td>0.041625</td>\n",
       "      <td>0.177435</td>\n",
       "      <td>0.015037</td>\n",
       "      <td>0.012763</td>\n",
       "      <td>0.724010</td>\n",
       "      <td>0.461639</td>\n",
       "    </tr>\n",
       "    <tr>\n",
       "      <th>std</th>\n",
       "      <td>15.406320</td>\n",
       "      <td>8403.876972</td>\n",
       "      <td>16.839923</td>\n",
       "      <td>341.246429</td>\n",
       "      <td>401.268227</td>\n",
       "      <td>0.016174</td>\n",
       "      <td>0.016174</td>\n",
       "      <td>0.155391</td>\n",
       "      <td>0.148111</td>\n",
       "      <td>0.323524</td>\n",
       "      <td>...</td>\n",
       "      <td>0.304084</td>\n",
       "      <td>0.171113</td>\n",
       "      <td>0.221158</td>\n",
       "      <td>0.141841</td>\n",
       "      <td>0.199732</td>\n",
       "      <td>0.382038</td>\n",
       "      <td>0.121702</td>\n",
       "      <td>0.112251</td>\n",
       "      <td>0.963195</td>\n",
       "      <td>0.498529</td>\n",
       "    </tr>\n",
       "    <tr>\n",
       "      <th>min</th>\n",
       "      <td>0.000000</td>\n",
       "      <td>1.000000</td>\n",
       "      <td>1.000000</td>\n",
       "      <td>1143.000000</td>\n",
       "      <td>966.000000</td>\n",
       "      <td>0.115000</td>\n",
       "      <td>0.115000</td>\n",
       "      <td>0.000000</td>\n",
       "      <td>0.000000</td>\n",
       "      <td>0.000000</td>\n",
       "      <td>...</td>\n",
       "      <td>0.000000</td>\n",
       "      <td>0.000000</td>\n",
       "      <td>0.000000</td>\n",
       "      <td>0.000000</td>\n",
       "      <td>0.000000</td>\n",
       "      <td>0.000000</td>\n",
       "      <td>0.000000</td>\n",
       "      <td>0.000000</td>\n",
       "      <td>0.000000</td>\n",
       "      <td>0.000000</td>\n",
       "    </tr>\n",
       "    <tr>\n",
       "      <th>25%</th>\n",
       "      <td>0.000000</td>\n",
       "      <td>7310.750000</td>\n",
       "      <td>35.000000</td>\n",
       "      <td>2500.000000</td>\n",
       "      <td>2048.000000</td>\n",
       "      <td>0.143000</td>\n",
       "      <td>0.143000</td>\n",
       "      <td>0.000000</td>\n",
       "      <td>0.000000</td>\n",
       "      <td>0.000000</td>\n",
       "      <td>...</td>\n",
       "      <td>0.000000</td>\n",
       "      <td>0.000000</td>\n",
       "      <td>0.000000</td>\n",
       "      <td>0.000000</td>\n",
       "      <td>0.000000</td>\n",
       "      <td>0.000000</td>\n",
       "      <td>0.000000</td>\n",
       "      <td>0.000000</td>\n",
       "      <td>0.000000</td>\n",
       "      <td>0.000000</td>\n",
       "    </tr>\n",
       "    <tr>\n",
       "      <th>50%</th>\n",
       "      <td>3.000000</td>\n",
       "      <td>13993.000000</td>\n",
       "      <td>49.000000</td>\n",
       "      <td>2518.000000</td>\n",
       "      <td>2544.000000</td>\n",
       "      <td>0.143000</td>\n",
       "      <td>0.143000</td>\n",
       "      <td>0.000000</td>\n",
       "      <td>0.000000</td>\n",
       "      <td>0.000000</td>\n",
       "      <td>...</td>\n",
       "      <td>0.000000</td>\n",
       "      <td>0.000000</td>\n",
       "      <td>0.000000</td>\n",
       "      <td>0.000000</td>\n",
       "      <td>0.000000</td>\n",
       "      <td>0.000000</td>\n",
       "      <td>0.000000</td>\n",
       "      <td>0.000000</td>\n",
       "      <td>0.000000</td>\n",
       "      <td>0.000000</td>\n",
       "    </tr>\n",
       "    <tr>\n",
       "      <th>75%</th>\n",
       "      <td>10.000000</td>\n",
       "      <td>20673.000000</td>\n",
       "      <td>59.000000</td>\n",
       "      <td>2992.000000</td>\n",
       "      <td>2991.000000</td>\n",
       "      <td>0.168000</td>\n",
       "      <td>0.168000</td>\n",
       "      <td>0.000000</td>\n",
       "      <td>0.000000</td>\n",
       "      <td>0.000000</td>\n",
       "      <td>...</td>\n",
       "      <td>0.000000</td>\n",
       "      <td>0.000000</td>\n",
       "      <td>0.000000</td>\n",
       "      <td>0.000000</td>\n",
       "      <td>0.000000</td>\n",
       "      <td>0.000000</td>\n",
       "      <td>0.000000</td>\n",
       "      <td>0.000000</td>\n",
       "      <td>1.000000</td>\n",
       "      <td>1.000000</td>\n",
       "    </tr>\n",
       "    <tr>\n",
       "      <th>max</th>\n",
       "      <td>183.000000</td>\n",
       "      <td>30805.000000</td>\n",
       "      <td>414.000000</td>\n",
       "      <td>3827.000000</td>\n",
       "      <td>4715.000000</td>\n",
       "      <td>0.198800</td>\n",
       "      <td>0.198800</td>\n",
       "      <td>1.000000</td>\n",
       "      <td>1.000000</td>\n",
       "      <td>1.000000</td>\n",
       "      <td>...</td>\n",
       "      <td>1.000000</td>\n",
       "      <td>1.000000</td>\n",
       "      <td>1.000000</td>\n",
       "      <td>1.000000</td>\n",
       "      <td>1.000000</td>\n",
       "      <td>1.000000</td>\n",
       "      <td>1.000000</td>\n",
       "      <td>1.000000</td>\n",
       "      <td>9.000000</td>\n",
       "      <td>1.000000</td>\n",
       "    </tr>\n",
       "  </tbody>\n",
       "</table>\n",
       "<p>8 rows × 23 columns</p>\n",
       "</div>"
      ],
      "text/plain": [
       "         Follow-up #     Patient ID    Patient Age       ImgWidth  \\\n",
       "count  112120.000000  112120.000000  112120.000000  112120.000000   \n",
       "mean        8.573751   14346.381743      46.901463    2646.078844   \n",
       "std        15.406320    8403.876972      16.839923     341.246429   \n",
       "min         0.000000       1.000000       1.000000    1143.000000   \n",
       "25%         0.000000    7310.750000      35.000000    2500.000000   \n",
       "50%         3.000000   13993.000000      49.000000    2518.000000   \n",
       "75%        10.000000   20673.000000      59.000000    2992.000000   \n",
       "max       183.000000   30805.000000     414.000000    3827.000000   \n",
       "\n",
       "           ImgHeight    ImgPxSpaceX    ImgPxSpaceY   Cardiomegaly  \\\n",
       "count  112120.000000  112120.000000  112120.000000  112120.000000   \n",
       "mean     2486.438842       0.155649       0.155649       0.024759   \n",
       "std       401.268227       0.016174       0.016174       0.155391   \n",
       "min       966.000000       0.115000       0.115000       0.000000   \n",
       "25%      2048.000000       0.143000       0.143000       0.000000   \n",
       "50%      2544.000000       0.143000       0.143000       0.000000   \n",
       "75%      2991.000000       0.168000       0.168000       0.000000   \n",
       "max      4715.000000       0.198800       0.198800       1.000000   \n",
       "\n",
       "           Emphysema       Effusion      ...          Atelectasis  \\\n",
       "count  112120.000000  112120.000000      ...        112120.000000   \n",
       "mean        0.022440       0.118775      ...             0.103095   \n",
       "std         0.148111       0.323524      ...             0.304084   \n",
       "min         0.000000       0.000000      ...             0.000000   \n",
       "25%         0.000000       0.000000      ...             0.000000   \n",
       "50%         0.000000       0.000000      ...             0.000000   \n",
       "75%         0.000000       0.000000      ...             0.000000   \n",
       "max         1.000000       1.000000      ...             1.000000   \n",
       "\n",
       "       Pleural_Thickening           Mass          Edema  Consolidation  \\\n",
       "count       112120.000000  112120.000000  112120.000000  112120.000000   \n",
       "mean             0.030191       0.051570       0.020540       0.041625   \n",
       "std              0.171113       0.221158       0.141841       0.199732   \n",
       "min              0.000000       0.000000       0.000000       0.000000   \n",
       "25%              0.000000       0.000000       0.000000       0.000000   \n",
       "50%              0.000000       0.000000       0.000000       0.000000   \n",
       "75%              0.000000       0.000000       0.000000       0.000000   \n",
       "max              1.000000       1.000000       1.000000       1.000000   \n",
       "\n",
       "        Infiltration       Fibrosis      Pneumonia    TotalPathos  \\\n",
       "count  112120.000000  112120.000000  112120.000000  112120.000000   \n",
       "mean        0.177435       0.015037       0.012763       0.724010   \n",
       "std         0.382038       0.121702       0.112251       0.963195   \n",
       "min         0.000000       0.000000       0.000000       0.000000   \n",
       "25%         0.000000       0.000000       0.000000       0.000000   \n",
       "50%         0.000000       0.000000       0.000000       0.000000   \n",
       "75%         0.000000       0.000000       0.000000       1.000000   \n",
       "max         1.000000       1.000000       1.000000       9.000000   \n",
       "\n",
       "          Non-normal  \n",
       "count  112120.000000  \n",
       "mean        0.461639  \n",
       "std         0.498529  \n",
       "min         0.000000  \n",
       "25%         0.000000  \n",
       "50%         0.000000  \n",
       "75%         1.000000  \n",
       "max         1.000000  \n",
       "\n",
       "[8 rows x 23 columns]"
      ]
     },
     "execution_count": 19,
     "metadata": {},
     "output_type": "execute_result"
    }
   ],
   "source": [
    "# show basic stats for any numeric columns\n",
    "xrays.describe()"
   ]
  },
  {
   "cell_type": "markdown",
   "metadata": {},
   "source": [
    "**How many x-rays are there? How many are normal vs. non-normal?**"
   ]
  },
  {
   "cell_type": "code",
   "execution_count": 20,
   "metadata": {},
   "outputs": [
    {
     "name": "stdout",
     "output_type": "stream",
     "text": [
      "Total X-rays: \t112,120\n",
      "- Normal: \t 60,361\n",
      "- Non-normal: \t 51,759\n"
     ]
    }
   ],
   "source": [
    "n = xrays[xrays['Finding Labels']=='No Finding']['Image Index'].count()\n",
    "nn = xrays.shape[0] - n\n",
    "print(\"Total X-rays: \\t{:,}\".format(n + nn))\n",
    "print(\"- Normal: \\t {:,}\".format(n))\n",
    "print(\"- Non-normal: \\t {:,}\".format(nn))"
   ]
  },
  {
   "cell_type": "code",
   "execution_count": 21,
   "metadata": {},
   "outputs": [
    {
     "data": {
      "image/png": "[encoded data removed]",
      "text/plain": [
       "<matplotlib.figure.Figure at 0x10e624a20>"
      ]
     },
     "metadata": {},
     "output_type": "display_data"
    }
   ],
   "source": [
    "# increase font label size\n",
    "sns.set_context(\"notebook\", font_scale=1.25, rc={\"lines.linewidth\": 2.5})\n",
    "\n",
    "# Plot normal v. non-normal X-ray counts\n",
    "x = xrays['Non-normal']\n",
    "ax = sns.countplot(x);\n",
    "\n",
    "# label bars with counts\n",
    "for p, label in zip(ax.patches, x.value_counts()):\n",
    "    ax.annotate(label, (p.get_x()+0.3, p.get_height()+0.5))\n",
    "\n",
    "plt.title('Normal vs. Non-normal X-rays')\n",
    "\n",
    "# save PNG\n",
    "plt.savefig('charts/countplot_normal_nonnormal.png', bbox_inches='tight')"
   ]
  },
  {
   "cell_type": "markdown",
   "metadata": {},
   "source": [
    "**How many patients are there?**"
   ]
  },
  {
   "cell_type": "code",
   "execution_count": 22,
   "metadata": {},
   "outputs": [
    {
     "name": "stdout",
     "output_type": "stream",
     "text": [
      "Total Patients: 30,805\n",
      "- Patients with Non-normal X-rays: 14,402\n",
      "- Patients with Normal X-rays: 24,907\n"
     ]
    }
   ],
   "source": [
    "# Count unique 'Patient ID'\n",
    "p = xrays['Patient ID'].nunique()\n",
    "print(\"Total Patients: {:,}\".format(p))\n",
    "\n",
    "puniqnonnorm = xrays[xrays['Non-normal'] == 1]['Patient ID'].nunique()\n",
    "print(\"- Patients with Non-normal X-rays: {:,}\".format(puniqnonnorm))\n",
    "\n",
    "puniqnorm = xrays[xrays['Non-normal'] == 0]['Patient ID'].nunique()\n",
    "print(\"- Patients with Normal X-rays: {:,}\".format(puniqnorm))"
   ]
  },
  {
   "cell_type": "markdown",
   "metadata": {},
   "source": [
    "Observation: Many patients who have multiple X-rays must have both normal and non-normal results."
   ]
  },
  {
   "cell_type": "markdown",
   "metadata": {},
   "source": [
    "**How many of the patients with multiple X-rays have both normal and non-normal findings among those X-rays?**"
   ]
  },
  {
   "cell_type": "code",
   "execution_count": null,
   "metadata": {},
   "outputs": [],
   "source": [
    "def fun_pcheck(p, df):\n",
    "    '''Returns True if patient has both normal and non-normal X-rays'''\n",
    "    patient = df[df['Patient ID'] == p]    \n",
    "    if (len(patient['Non-normal'].unique()) == 1):\n",
    "        return False # X-rays are all normal or all non-normal\n",
    "    return True # X-rays have mixed results"
   ]
  },
  {
   "cell_type": "code",
   "execution_count": null,
   "metadata": {},
   "outputs": [],
   "source": [
    "# IDs of patients with multiple X-rays\n",
    "pids_multi = xrays[xrays['Follow-up #'] > 0]['Patient ID'].unique()\n",
    "\n",
    "# subset columns\n",
    "cols = ['Patient ID','Non-normal']\n",
    "sub1 = xrays[cols]\n",
    "\n",
    "# count of patients with combo results (norm/non)\n",
    "pboth = 0\n",
    "for p in pids_multi:    \n",
    "    if (fun_pcheck(p, sub1) == True):\n",
    "        pboth += 1\n",
    "\n",
    "print('There are {:,} patients with more than one X-ray.'.format(len(pids_multi)))\n",
    "print('Of these patients, {:,} have both normal and non-normal X-rays.'.format(pboth))\n",
    "    "
   ]
  },
  {
   "cell_type": "markdown",
   "metadata": {},
   "source": [
    "**As of the first x-ray, what are patients' ages?**"
   ]
  },
  {
   "cell_type": "code",
   "execution_count": null,
   "metadata": {},
   "outputs": [],
   "source": [
    "# first X-ray\n",
    "xr1 = xrays[xrays['Follow-up #'] == 0]\n",
    "print(\"The plot below represents all {:,} patients.\".format(xr1.shape[0]))"
   ]
  },
  {
   "cell_type": "markdown",
   "metadata": {},
   "source": [
    "A benefit of only looking at the first X-ray is that each patient is counted once, as opposed to once per X-ray."
   ]
  },
  {
   "cell_type": "code",
   "execution_count": null,
   "metadata": {},
   "outputs": [],
   "source": [
    "# plot code adapted from sbernadac (Kaggle) to address the \"first X-ray\" question\n",
    "sns.set(font_scale = 1.5)\n",
    "g = sns.factorplot(x=\"Patient Age\", col=\"Patient Gender\",data=xr1, kind=\"count\",size=10, aspect=0.8,palette=\"husl\");\n",
    "g.set_xticklabels(np.arange(0,100));\n",
    "g.set_xticklabels(step=10);\n",
    "g.fig.suptitle('Patient Age by Gender using 30,805 First X-rays,\\nwhere Follow-up # is Zero',fontsize=22);\n",
    "g.fig.subplots_adjust(top=.9)\n",
    "\n",
    "# save chart as PNG\n",
    "plt.savefig('charts/age_by_gender_first_xray.png', bbox_inches='tight')"
   ]
  },
  {
   "cell_type": "code",
   "execution_count": null,
   "metadata": {},
   "outputs": [],
   "source": [
    "# count M and F in first xray\n",
    "totalmen = xr1[xr1['Patient Gender'] == 'M']['Patient ID'].nunique()\n",
    "totalmenxrays = xrays[xrays['Patient Gender'] == 'M']['Image Index'].nunique()\n",
    "totalwommen = xr1[xr1['Patient Gender'] == 'F']['Patient ID'].nunique()\n",
    "totalwomenxrays = xrays[xrays['Patient Gender'] == 'F']['Image Index'].nunique()\n",
    "print('The dataset contains:')\n",
    "print( '- {:,} X-rays from {:,} men.'.format(totalmenxrays, totalmen))\n",
    "print( '- {:,} X-rays from {:,} wommen.'.format(totalwomenxrays, totalwommen))"
   ]
  },
  {
   "cell_type": "code",
   "execution_count": null,
   "metadata": {},
   "outputs": [],
   "source": [
    "# plot code adapted from sbernadac (Kaggle)\n",
    "sns.set(font_scale = 1.5)\n",
    "g = sns.factorplot(x=\"Patient Age\", col=\"Patient Gender\",data=xrays, kind=\"count\",size=10, aspect=0.8,palette=\"husl\");\n",
    "g.set_xticklabels(np.arange(0,100));\n",
    "g.set_xticklabels(step=10);\n",
    "g.fig.suptitle('Patient Age by Gender using All 112,120 X-rays',fontsize=22);\n",
    "g.fig.subplots_adjust(top=.9)\n",
    "\n",
    "# save chart as PNG\n",
    "plt.savefig('charts/age_by_gender_all_xrays.png', bbox_inches='tight')"
   ]
  },
  {
   "cell_type": "markdown",
   "metadata": {},
   "source": [
    "## Correlations"
   ]
  },
  {
   "cell_type": "code",
   "execution_count": null,
   "metadata": {},
   "outputs": [],
   "source": [
    "# Enlarge the plot\n",
    "plt.figure(figsize=(6,6))\n",
    "\n",
    "# Calculate correlations\n",
    "corr = xrays.iloc[:, 0:10].corr()\n",
    "\n",
    "# Heatmap\n",
    "sns.heatmap(corr, cmap='PiYG');"
   ]
  },
  {
   "cell_type": "markdown",
   "metadata": {},
   "source": [
    "Insights from correlation plot:\n",
    "- Total pathologies are most positively correlated with Effusion, Atelectasis, and Infiltration\n",
    "- Total pathologies are least correlated with Hernia\n",
    "- Image Width and Height are *negatively* correlated with Image Pixel Spacing"
   ]
  },
  {
   "cell_type": "markdown",
   "metadata": {},
   "source": [
    "**Is there any correlation between Age and Follow-up #?**"
   ]
  },
  {
   "cell_type": "code",
   "execution_count": null,
   "metadata": {},
   "outputs": [],
   "source": [
    "# Avg. Patient Age as of the 11th X-ray\n",
    "xrays[xrays['Follow-up #'] == 10]['Patient Age'].mean(axis=0)"
   ]
  },
  {
   "cell_type": "code",
   "execution_count": null,
   "metadata": {},
   "outputs": [],
   "source": [
    "# Compute average age of patients at each X-ray Follow-up #\n",
    "maxfu = xrays['Follow-up #'].max(axis=0) # 183\n",
    "fu = []   # follow-up number\n",
    "favage = [] # avg. age\n",
    "for f in range(maxfu):\n",
    "    a = xrays[xrays['Follow-up #'] == f]['Patient Age'].mean(axis=0)\n",
    "    fu.append(f)\n",
    "    favage.append(a)\n",
    "\n",
    "df_fufav = pd.DataFrame({'Follow-up #':fu, 'Average Age':favage})"
   ]
  },
  {
   "cell_type": "code",
   "execution_count": null,
   "metadata": {
    "scrolled": true
   },
   "outputs": [],
   "source": [
    "# Plot Average Age by Follow-up #\n",
    "g = sns.lmplot(x='Follow-up #', y='Average Age', data=df_fufav);\n",
    "plt.title('Average Age by Follow-up #');"
   ]
  },
  {
   "cell_type": "code",
   "execution_count": null,
   "metadata": {},
   "outputs": [],
   "source": [
    "# plot with simple linear regression\n",
    "sns.lmplot(x='Follow-up #', y='Patient Age', data=xrays,\n",
    "           fit_reg=False, # No regression line\n",
    "           hue='Patient Gender');"
   ]
  },
  {
   "cell_type": "code",
   "execution_count": null,
   "metadata": {},
   "outputs": [],
   "source": []
  },
  {
   "cell_type": "markdown",
   "metadata": {},
   "source": [
    "Observations:\n",
    "* Follow-up # ranges from low of 0 (first visit) to high of 183 with a median of 3\n",
    "* Patient Age ranges from 1 to 414; need to investigate extreme values\n",
    "* \n",
    "\n",
    "Next, explore the variety of image widths, heights, and pixel spacing."
   ]
  },
  {
   "cell_type": "code",
   "execution_count": null,
   "metadata": {},
   "outputs": [],
   "source": [
    "# List categories and counts\n",
    "for cat in ['Patient Gender', 'View Position']:\n",
    "    print( \"{}\\n\".format(xrays[cat].value_counts()) )"
   ]
  },
  {
   "cell_type": "markdown",
   "metadata": {},
   "source": [
    "### X-ray image size and dimensions"
   ]
  },
  {
   "cell_type": "code",
   "execution_count": null,
   "metadata": {},
   "outputs": [],
   "source": [
    "w = len(xrays[\"ImgWidth\"].value_counts())\n",
    "h = len(xrays[\"ImgHeight\"].value_counts())\n",
    "print(\"Unique image widths: {}\\nUnique image heights: {}\".format(w, h))"
   ]
  },
  {
   "cell_type": "code",
   "execution_count": null,
   "metadata": {},
   "outputs": [],
   "source": [
    "# create column with combined image width by height string\n",
    "xrays.loc[: ,\"ImageWxH\"] = xrays[\"ImgWidth\"].map(str) + \"x\" + xrays[\"ImgHeight\"].map(str)"
   ]
  },
  {
   "cell_type": "code",
   "execution_count": null,
   "metadata": {},
   "outputs": [],
   "source": [
    "xrays[\"ImageWxH\"].head()"
   ]
  },
  {
   "cell_type": "code",
   "execution_count": null,
   "metadata": {},
   "outputs": [],
   "source": [
    "# summarize unique combinations of image dimensions\n",
    "wh = len(xrays[\"ImageWxH\"].value_counts())\n",
    "print(\"Number of unique image dimensions (WxH) among chest X-rays: {}\".format(wh))"
   ]
  },
  {
   "cell_type": "code",
   "execution_count": null,
   "metadata": {},
   "outputs": [],
   "source": [
    "xrays[\"ImgWidth\"].sort_values().tail()"
   ]
  },
  {
   "cell_type": "code",
   "execution_count": null,
   "metadata": {
    "scrolled": true
   },
   "outputs": [],
   "source": [
    "# histogram by Age\n",
    "sns.distplot(xrays[\"ImgWidth\"]*xrays[\"ImgHeight\"]/1000000, bins=12,  kde=False);\n",
    "plt.title('Histogram of X-ray Total Pixels, in Millions');"
   ]
  },
  {
   "cell_type": "code",
   "execution_count": null,
   "metadata": {},
   "outputs": [],
   "source": [
    "# most common image dimensions\n",
    "xrays[\"ImageWxH\"].value_counts().head(10)"
   ]
  },
  {
   "cell_type": "code",
   "execution_count": null,
   "metadata": {},
   "outputs": [],
   "source": [
    "x = len(xrays[\"ImgPxSpaceX\"].value_counts())\n",
    "y = len(xrays[\"ImgPxSpaceY\"].value_counts())\n",
    "print(\"Unique x pixel spacings: {}\\nUnique y pixel spacings: {}\".format(x, y))"
   ]
  },
  {
   "cell_type": "markdown",
   "metadata": {},
   "source": [
    "## Exploratory Questions\n",
    "\n",
    "* What are the overall age and gender distributions?\n",
    "* What are the age and gender distributions by pathology?\n",
    "* Are there correlations between \"Follow-up #\", Age, Gender, and Pathologies?\n"
   ]
  },
  {
   "cell_type": "markdown",
   "metadata": {},
   "source": [
    "### Age analysis"
   ]
  },
  {
   "cell_type": "code",
   "execution_count": null,
   "metadata": {
    "scrolled": true
   },
   "outputs": [],
   "source": [
    "# histogram by Age\n",
    "sns.distplot(xrays[\"Patient Age\"], bins=25,  kde=False);\n",
    "plt.title('Histogram of Patient Age with Full Data');"
   ]
  },
  {
   "cell_type": "markdown",
   "metadata": {},
   "source": [
    "**What are the outliers at high end of 'Patient Age'?**"
   ]
  },
  {
   "cell_type": "code",
   "execution_count": null,
   "metadata": {
    "scrolled": true
   },
   "outputs": [],
   "source": [
    "xrays.iloc[:, 0:6].sort_values(by='Patient Age', ascending=False).head(20)"
   ]
  },
  {
   "cell_type": "markdown",
   "metadata": {},
   "source": [
    "Finding: 16 X-rays list Patient Age of 148 or greater. Perhaps that value is mislabeled, or not 'years' in some instances. Look at same patient where possible."
   ]
  },
  {
   "cell_type": "code",
   "execution_count": null,
   "metadata": {},
   "outputs": [],
   "source": [
    "# Filter by 'Patient ID' where 'Patient Age' is over 100\n",
    "xrays[xrays['Patient ID'].isin(xrays[xrays['Patient Age'] > 100]['Patient ID'])].tail(10)"
   ]
  },
  {
   "cell_type": "markdown",
   "metadata": {},
   "source": [
    "Findings:\n",
    "- Patient ID 25206 is Age 153 at Follow-up \\#0, then Age 36 at all future Follow-ups.\n",
    "- Patient ID 26028 is Age 60 at Follow-up \\#0, but Age 154 at future Follow-ups.\n",
    "\n",
    "**Age Outliers Conclusion:** A handful of 'Patient Age' outliers reveal errors in this data. In cases where an Age outlier Patient ID has matching Follow-up #'s, the Patient Age could be corrected on a case-by-case basis. This could improve EDA statistical summaries, or if Age were to be used as a data modeling input. Regardless, the rows for these X-ray images will be left in the data set.\n"
   ]
  },
  {
   "cell_type": "code",
   "execution_count": null,
   "metadata": {},
   "outputs": [],
   "source": [
    "# histogram by Age < 100\n",
    "sns.distplot(xrays[xrays[\"Patient Age\"] < 100][\"Patient Age\"], bins=19,  kde=False);\n",
    "plt.title('Histogram of Patient Age < 100');"
   ]
  },
  {
   "cell_type": "code",
   "execution_count": null,
   "metadata": {},
   "outputs": [],
   "source": []
  },
  {
   "cell_type": "markdown",
   "metadata": {},
   "source": [
    "### Follow-up # Analysis\n",
    "**What is the range and distribution of \"Follow-up #\"?**"
   ]
  },
  {
   "cell_type": "code",
   "execution_count": null,
   "metadata": {},
   "outputs": [],
   "source": [
    "# quick stats on multiple series\n",
    "xrays[[\"TotalPathos\", \"Follow-up #\"]].describe()"
   ]
  },
  {
   "cell_type": "code",
   "execution_count": null,
   "metadata": {},
   "outputs": [],
   "source": [
    "# List top 20 X-ray counts by Follow-up #\n",
    "a = xrays['Follow-up #']\n",
    "unique_elements, counts_elements = np.unique(a, return_counts=True)\n",
    "\n",
    "# counts_elements_proportion_of_patients\n",
    "counts_elements_pop = counts_elements/counts_elements[0]\n",
    "print(\"Frequency of unique values of the said array:\")\n",
    "#print(np.asarray((unique_elements, counts_elements)))\n",
    "xrfu = pd.DataFrame( OrderedDict( {'Follow-up #':unique_elements, 'X-ray count':counts_elements, 'Proportion of patients':counts_elements_pop} ) )\n",
    "xrfu.head(20)"
   ]
  },
  {
   "cell_type": "code",
   "execution_count": null,
   "metadata": {},
   "outputs": [],
   "source": [
    "xrfu[30:36]"
   ]
  },
  {
   "cell_type": "markdown",
   "metadata": {},
   "source": [
    "**Insights based on Follow-up #:**\n",
    "- More than 90% of patients have fewer than 10 X-rays\n",
    "- Fewer than 1% of patients have more than 35 X-rays"
   ]
  },
  {
   "cell_type": "code",
   "execution_count": null,
   "metadata": {},
   "outputs": [],
   "source": [
    "x = xrays['Follow-up #']\n",
    "plt.figure(figsize=(16, 9))\n",
    "g = sns.countplot(x);\n",
    "g.set_xticklabels(np.arange(min(x), max(x)+1, step=1));\n",
    "#g.set_xticklabels(step=10);\n",
    "plt.setp(g.get_xticklabels(), rotation=90);\n",
    "plt.title('Count of X-rays by Follow-up #');"
   ]
  },
  {
   "cell_type": "markdown",
   "metadata": {},
   "source": [
    "Insights:\n",
    "* A given x-ray has anywhere from 0 to 9 total pathologies.\n",
    "* The \"Follow-up #\" ranges from 0 (first visit and x-ray) to 183."
   ]
  },
  {
   "cell_type": "code",
   "execution_count": null,
   "metadata": {},
   "outputs": [],
   "source": [
    "%matplotlib inline"
   ]
  },
  {
   "cell_type": "code",
   "execution_count": null,
   "metadata": {},
   "outputs": [],
   "source": [
    "x = xrays['TotalPathos']\n",
    "sns.countplot(x);\n",
    "plt.title('Count of X-rays by total number of pathologies found');"
   ]
  },
  {
   "cell_type": "code",
   "execution_count": null,
   "metadata": {},
   "outputs": [],
   "source": [
    "# Plot of \"Follow-up #\" with \n",
    "sns.jointplot(x=\"Follow-up #\", y=\"TotalPathos\", data=xrays);"
   ]
  },
  {
   "cell_type": "code",
   "execution_count": null,
   "metadata": {},
   "outputs": [],
   "source": []
  },
  {
   "cell_type": "code",
   "execution_count": null,
   "metadata": {},
   "outputs": [],
   "source": []
  },
  {
   "cell_type": "markdown",
   "metadata": {},
   "source": [
    "# References\n",
    "\n",
    "As noted, some charts and code wizardry used here are credited to the excellent [Lung diseases data analysis](https://www.kaggle.com/sbernadac/lung-deseases-data-analysis) by Stephane Bernadec (sbernadec) on Kaggle."
   ]
  },
  {
   "cell_type": "code",
   "execution_count": null,
   "metadata": {},
   "outputs": [],
   "source": []
  }
 ],
 "metadata": {
  "kernelspec": {
   "display_name": "Python 3",
   "language": "python",
   "name": "python3"
  },
  "language_info": {
   "codemirror_mode": {
    "name": "ipython",
    "version": 3
   },
   "file_extension": ".py",
   "mimetype": "text/x-python",
   "name": "python",
   "nbconvert_exporter": "python",
   "pygments_lexer": "ipython3",
   "version": "3.6.4"
  }
 },
 "nbformat": 4,
 "nbformat_minor": 1
}
